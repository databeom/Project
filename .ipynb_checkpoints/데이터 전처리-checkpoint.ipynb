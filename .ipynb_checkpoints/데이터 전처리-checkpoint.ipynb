{
 "cells": [
  {
   "cell_type": "code",
   "execution_count": 41,
   "id": "2ba9be84-d68c-4147-b245-28d1331e6dc0",
   "metadata": {},
   "outputs": [
    {
     "data": {
      "text/html": [
       "<div>\n",
       "<style scoped>\n",
       "    .dataframe tbody tr th:only-of-type {\n",
       "        vertical-align: middle;\n",
       "    }\n",
       "\n",
       "    .dataframe tbody tr th {\n",
       "        vertical-align: top;\n",
       "    }\n",
       "\n",
       "    .dataframe thead th {\n",
       "        text-align: right;\n",
       "    }\n",
       "</style>\n",
       "<table border=\"1\" class=\"dataframe\">\n",
       "  <thead>\n",
       "    <tr style=\"text-align: right;\">\n",
       "      <th></th>\n",
       "      <th>age</th>\n",
       "      <th>gender</th>\n",
       "      <th>membership_type_1</th>\n",
       "      <th>membership_type_2</th>\n",
       "      <th>membership_type_3</th>\n",
       "      <th>membership_type_4</th>\n",
       "      <th>membership_type_5</th>\n",
       "      <th>membership_type_6</th>\n",
       "      <th>tran_date</th>\n",
       "      <th>tran_time</th>\n",
       "      <th>...</th>\n",
       "      <th>ticket_cancel</th>\n",
       "      <th>discount_type</th>\n",
       "      <th>performance_code</th>\n",
       "      <th>pre_open_date</th>\n",
       "      <th>open_date</th>\n",
       "      <th>genre</th>\n",
       "      <th>place</th>\n",
       "      <th>running_time</th>\n",
       "      <th>intermission</th>\n",
       "      <th>member_yn</th>\n",
       "    </tr>\n",
       "  </thead>\n",
       "  <tbody>\n",
       "    <tr>\n",
       "      <th>0</th>\n",
       "      <td>50.0</td>\n",
       "      <td>F</td>\n",
       "      <td>골드</td>\n",
       "      <td>무료</td>\n",
       "      <td>그린</td>\n",
       "      <td>NaN</td>\n",
       "      <td>NaN</td>\n",
       "      <td>NaN</td>\n",
       "      <td>20220114</td>\n",
       "      <td>1512</td>\n",
       "      <td>...</td>\n",
       "      <td>2</td>\n",
       "      <td>일반</td>\n",
       "      <td>302</td>\n",
       "      <td>20220114.0</td>\n",
       "      <td>20220115.0</td>\n",
       "      <td>교향곡</td>\n",
       "      <td>콘서트홀</td>\n",
       "      <td>120</td>\n",
       "      <td>15</td>\n",
       "      <td>Y</td>\n",
       "    </tr>\n",
       "    <tr>\n",
       "      <th>1</th>\n",
       "      <td>NaN</td>\n",
       "      <td>NaN</td>\n",
       "      <td>NaN</td>\n",
       "      <td>NaN</td>\n",
       "      <td>NaN</td>\n",
       "      <td>NaN</td>\n",
       "      <td>NaN</td>\n",
       "      <td>NaN</td>\n",
       "      <td>20211003</td>\n",
       "      <td>1550</td>\n",
       "      <td>...</td>\n",
       "      <td>0</td>\n",
       "      <td>초대권</td>\n",
       "      <td>1120</td>\n",
       "      <td>NaN</td>\n",
       "      <td>20210823.0</td>\n",
       "      <td>독주</td>\n",
       "      <td>리사이틀홀</td>\n",
       "      <td>90</td>\n",
       "      <td>15</td>\n",
       "      <td>N</td>\n",
       "    </tr>\n",
       "    <tr>\n",
       "      <th>2</th>\n",
       "      <td>NaN</td>\n",
       "      <td>NaN</td>\n",
       "      <td>NaN</td>\n",
       "      <td>NaN</td>\n",
       "      <td>NaN</td>\n",
       "      <td>NaN</td>\n",
       "      <td>NaN</td>\n",
       "      <td>NaN</td>\n",
       "      <td>20220917</td>\n",
       "      <td>1520</td>\n",
       "      <td>...</td>\n",
       "      <td>0</td>\n",
       "      <td>초대권</td>\n",
       "      <td>2283</td>\n",
       "      <td>20220911.0</td>\n",
       "      <td>20220911.0</td>\n",
       "      <td>독주</td>\n",
       "      <td>IBK챔버홀</td>\n",
       "      <td>80</td>\n",
       "      <td>15</td>\n",
       "      <td>N</td>\n",
       "    </tr>\n",
       "    <tr>\n",
       "      <th>3</th>\n",
       "      <td>NaN</td>\n",
       "      <td>NaN</td>\n",
       "      <td>NaN</td>\n",
       "      <td>NaN</td>\n",
       "      <td>NaN</td>\n",
       "      <td>NaN</td>\n",
       "      <td>NaN</td>\n",
       "      <td>NaN</td>\n",
       "      <td>20190630</td>\n",
       "      <td>1132</td>\n",
       "      <td>...</td>\n",
       "      <td>0</td>\n",
       "      <td>초대권</td>\n",
       "      <td>2798</td>\n",
       "      <td>NaN</td>\n",
       "      <td>20190701.0</td>\n",
       "      <td>독주</td>\n",
       "      <td>리사이틀홀</td>\n",
       "      <td>90</td>\n",
       "      <td>15</td>\n",
       "      <td>N</td>\n",
       "    </tr>\n",
       "    <tr>\n",
       "      <th>4</th>\n",
       "      <td>50.0</td>\n",
       "      <td>M</td>\n",
       "      <td>무료</td>\n",
       "      <td>NaN</td>\n",
       "      <td>NaN</td>\n",
       "      <td>NaN</td>\n",
       "      <td>NaN</td>\n",
       "      <td>NaN</td>\n",
       "      <td>20220206</td>\n",
       "      <td>1615</td>\n",
       "      <td>...</td>\n",
       "      <td>0</td>\n",
       "      <td>일반</td>\n",
       "      <td>897</td>\n",
       "      <td>20220109.0</td>\n",
       "      <td>20220110.0</td>\n",
       "      <td>독주</td>\n",
       "      <td>콘서트홀</td>\n",
       "      <td>90</td>\n",
       "      <td>0</td>\n",
       "      <td>Y</td>\n",
       "    </tr>\n",
       "  </tbody>\n",
       "</table>\n",
       "<p>5 rows × 24 columns</p>\n",
       "</div>"
      ],
      "text/plain": [
       "    age gender membership_type_1 membership_type_2 membership_type_3  \\\n",
       "0  50.0      F                골드                무료                그린   \n",
       "1   NaN    NaN               NaN               NaN               NaN   \n",
       "2   NaN    NaN               NaN               NaN               NaN   \n",
       "3   NaN    NaN               NaN               NaN               NaN   \n",
       "4  50.0      M                무료               NaN               NaN   \n",
       "\n",
       "  membership_type_4 membership_type_5  membership_type_6  tran_date  \\\n",
       "0               NaN               NaN                NaN   20220114   \n",
       "1               NaN               NaN                NaN   20211003   \n",
       "2               NaN               NaN                NaN   20220917   \n",
       "3               NaN               NaN                NaN   20190630   \n",
       "4               NaN               NaN                NaN   20220206   \n",
       "\n",
       "   tran_time  ...  ticket_cancel  discount_type performance_code  \\\n",
       "0       1512  ...              2             일반              302   \n",
       "1       1550  ...              0            초대권             1120   \n",
       "2       1520  ...              0            초대권             2283   \n",
       "3       1132  ...              0            초대권             2798   \n",
       "4       1615  ...              0             일반              897   \n",
       "\n",
       "   pre_open_date   open_date genre   place  running_time  intermission  \\\n",
       "0     20220114.0  20220115.0   교향곡    콘서트홀           120            15   \n",
       "1            NaN  20210823.0    독주   리사이틀홀            90            15   \n",
       "2     20220911.0  20220911.0    독주  IBK챔버홀            80            15   \n",
       "3            NaN  20190701.0    독주   리사이틀홀            90            15   \n",
       "4     20220109.0  20220110.0    독주    콘서트홀            90             0   \n",
       "\n",
       "  member_yn  \n",
       "0         Y  \n",
       "1         N  \n",
       "2         N  \n",
       "3         N  \n",
       "4         Y  \n",
       "\n",
       "[5 rows x 24 columns]"
      ]
     },
     "execution_count": 41,
     "metadata": {},
     "output_type": "execute_result"
    }
   ],
   "source": [
    "import pandas as pd\n",
    "df = pd.read_csv('big_contest.csv')\n",
    "df.head()"
   ]
  },
  {
   "cell_type": "code",
   "execution_count": 2,
   "id": "133d7a46-cbae-4f51-96d0-512be2dc3c70",
   "metadata": {},
   "outputs": [
    {
     "data": {
      "text/plain": [
       "(1920868, 24)"
      ]
     },
     "execution_count": 2,
     "metadata": {},
     "output_type": "execute_result"
    }
   ],
   "source": [
    "df.shape"
   ]
  },
  {
   "cell_type": "code",
   "execution_count": 42,
   "id": "d72db408-99e0-4658-a852-6cd78b6beef3",
   "metadata": {},
   "outputs": [
    {
     "data": {
      "text/plain": [
       "(1096968, 24)"
      ]
     },
     "execution_count": 42,
     "metadata": {},
     "output_type": "execute_result"
    }
   ],
   "source": [
    "con = df.loc[df['place']=='콘서트홀']\n",
    "con.shape"
   ]
  },
  {
   "cell_type": "code",
   "execution_count": 73,
   "id": "f6bcb3ff-f652-42fa-9506-0fcf482760be",
   "metadata": {},
   "outputs": [
    {
     "data": {
      "text/html": [
       "<div>\n",
       "<style scoped>\n",
       "    .dataframe tbody tr th:only-of-type {\n",
       "        vertical-align: middle;\n",
       "    }\n",
       "\n",
       "    .dataframe tbody tr th {\n",
       "        vertical-align: top;\n",
       "    }\n",
       "\n",
       "    .dataframe thead th {\n",
       "        text-align: right;\n",
       "    }\n",
       "</style>\n",
       "<table border=\"1\" class=\"dataframe\">\n",
       "  <thead>\n",
       "    <tr style=\"text-align: right;\">\n",
       "      <th></th>\n",
       "      <th>age</th>\n",
       "      <th>gender</th>\n",
       "      <th>membership_type_1</th>\n",
       "      <th>membership_type_2</th>\n",
       "      <th>membership_type_3</th>\n",
       "      <th>membership_type_4</th>\n",
       "      <th>membership_type_5</th>\n",
       "      <th>membership_type_6</th>\n",
       "      <th>tran_date</th>\n",
       "      <th>tran_time</th>\n",
       "      <th>...</th>\n",
       "      <th>discount_type</th>\n",
       "      <th>performance_code</th>\n",
       "      <th>pre_open_date</th>\n",
       "      <th>open_date</th>\n",
       "      <th>genre</th>\n",
       "      <th>place</th>\n",
       "      <th>running_time</th>\n",
       "      <th>intermission</th>\n",
       "      <th>member_yn</th>\n",
       "      <th>discount</th>\n",
       "    </tr>\n",
       "  </thead>\n",
       "  <tbody>\n",
       "    <tr>\n",
       "      <th>4</th>\n",
       "      <td>50.0</td>\n",
       "      <td>M</td>\n",
       "      <td>무료</td>\n",
       "      <td>NaN</td>\n",
       "      <td>NaN</td>\n",
       "      <td>NaN</td>\n",
       "      <td>NaN</td>\n",
       "      <td>NaN</td>\n",
       "      <td>20220206</td>\n",
       "      <td>1615</td>\n",
       "      <td>...</td>\n",
       "      <td>일반</td>\n",
       "      <td>897</td>\n",
       "      <td>20220109.0</td>\n",
       "      <td>20220110.0</td>\n",
       "      <td>독주</td>\n",
       "      <td>콘서트홀</td>\n",
       "      <td>90</td>\n",
       "      <td>0</td>\n",
       "      <td>Y</td>\n",
       "      <td>NaN</td>\n",
       "    </tr>\n",
       "    <tr>\n",
       "      <th>6</th>\n",
       "      <td>NaN</td>\n",
       "      <td>NaN</td>\n",
       "      <td>NaN</td>\n",
       "      <td>NaN</td>\n",
       "      <td>NaN</td>\n",
       "      <td>NaN</td>\n",
       "      <td>NaN</td>\n",
       "      <td>NaN</td>\n",
       "      <td>20191020</td>\n",
       "      <td>1459</td>\n",
       "      <td>...</td>\n",
       "      <td>초대권</td>\n",
       "      <td>44</td>\n",
       "      <td>NaN</td>\n",
       "      <td>20191023.0</td>\n",
       "      <td>교향곡</td>\n",
       "      <td>콘서트홀</td>\n",
       "      <td>100</td>\n",
       "      <td>15</td>\n",
       "      <td>N</td>\n",
       "      <td>NaN</td>\n",
       "    </tr>\n",
       "    <tr>\n",
       "      <th>7</th>\n",
       "      <td>NaN</td>\n",
       "      <td>NaN</td>\n",
       "      <td>NaN</td>\n",
       "      <td>NaN</td>\n",
       "      <td>NaN</td>\n",
       "      <td>NaN</td>\n",
       "      <td>NaN</td>\n",
       "      <td>NaN</td>\n",
       "      <td>20190613</td>\n",
       "      <td>954</td>\n",
       "      <td>...</td>\n",
       "      <td>초대권</td>\n",
       "      <td>827</td>\n",
       "      <td>20190602.0</td>\n",
       "      <td>20190602.0</td>\n",
       "      <td>교향곡</td>\n",
       "      <td>콘서트홀</td>\n",
       "      <td>120</td>\n",
       "      <td>20</td>\n",
       "      <td>N</td>\n",
       "      <td>NaN</td>\n",
       "    </tr>\n",
       "    <tr>\n",
       "      <th>9</th>\n",
       "      <td>NaN</td>\n",
       "      <td>F</td>\n",
       "      <td>블루</td>\n",
       "      <td>무료</td>\n",
       "      <td>NaN</td>\n",
       "      <td>NaN</td>\n",
       "      <td>NaN</td>\n",
       "      <td>NaN</td>\n",
       "      <td>20190703</td>\n",
       "      <td>908</td>\n",
       "      <td>...</td>\n",
       "      <td>일반</td>\n",
       "      <td>1528</td>\n",
       "      <td>NaN</td>\n",
       "      <td>20190413.0</td>\n",
       "      <td>클래식</td>\n",
       "      <td>콘서트홀</td>\n",
       "      <td>100</td>\n",
       "      <td>15</td>\n",
       "      <td>N</td>\n",
       "      <td>NaN</td>\n",
       "    </tr>\n",
       "    <tr>\n",
       "      <th>11</th>\n",
       "      <td>50.0</td>\n",
       "      <td>F</td>\n",
       "      <td>무료</td>\n",
       "      <td>NaN</td>\n",
       "      <td>NaN</td>\n",
       "      <td>NaN</td>\n",
       "      <td>NaN</td>\n",
       "      <td>NaN</td>\n",
       "      <td>20191005</td>\n",
       "      <td>1417</td>\n",
       "      <td>...</td>\n",
       "      <td>K-lang 멤버십 회원(1인2매)20%</td>\n",
       "      <td>315</td>\n",
       "      <td>NaN</td>\n",
       "      <td>20191005.0</td>\n",
       "      <td>오페라</td>\n",
       "      <td>콘서트홀</td>\n",
       "      <td>120</td>\n",
       "      <td>15</td>\n",
       "      <td>Y</td>\n",
       "      <td>20</td>\n",
       "    </tr>\n",
       "  </tbody>\n",
       "</table>\n",
       "<p>5 rows × 25 columns</p>\n",
       "</div>"
      ],
      "text/plain": [
       "     age gender membership_type_1 membership_type_2 membership_type_3  \\\n",
       "4   50.0      M                무료               NaN               NaN   \n",
       "6    NaN    NaN               NaN               NaN               NaN   \n",
       "7    NaN    NaN               NaN               NaN               NaN   \n",
       "9    NaN      F                블루                무료               NaN   \n",
       "11  50.0      F                무료               NaN               NaN   \n",
       "\n",
       "   membership_type_4 membership_type_5  membership_type_6  tran_date  \\\n",
       "4                NaN               NaN                NaN   20220206   \n",
       "6                NaN               NaN                NaN   20191020   \n",
       "7                NaN               NaN                NaN   20190613   \n",
       "9                NaN               NaN                NaN   20190703   \n",
       "11               NaN               NaN                NaN   20191005   \n",
       "\n",
       "    tran_time  ...           discount_type  performance_code pre_open_date  \\\n",
       "4        1615  ...                      일반               897    20220109.0   \n",
       "6        1459  ...                     초대권                44           NaN   \n",
       "7         954  ...                     초대권               827    20190602.0   \n",
       "9         908  ...                      일반              1528           NaN   \n",
       "11       1417  ...  K-lang 멤버십 회원(1인2매)20%               315           NaN   \n",
       "\n",
       "     open_date  genre place  running_time  intermission  member_yn discount  \n",
       "4   20220110.0     독주  콘서트홀            90             0          Y      NaN  \n",
       "6   20191023.0    교향곡  콘서트홀           100            15          N      NaN  \n",
       "7   20190602.0    교향곡  콘서트홀           120            20          N      NaN  \n",
       "9   20190413.0    클래식  콘서트홀           100            15          N      NaN  \n",
       "11  20191005.0    오페라  콘서트홀           120            15          Y       20  \n",
       "\n",
       "[5 rows x 25 columns]"
      ]
     },
     "execution_count": 73,
     "metadata": {},
     "output_type": "execute_result"
    }
   ],
   "source": [
    "con = con[con['ticket_cancel']==0]\n",
    "con.head()"
   ]
  },
  {
   "cell_type": "markdown",
   "id": "79f2a9e7-3d9f-48a1-8522-6632378517bf",
   "metadata": {},
   "source": [
    "## 공연시작시간 범주 나누기"
   ]
  },
  {
   "cell_type": "markdown",
   "id": "af18bb4c-27af-4945-8db6-710438258264",
   "metadata": {},
   "source": [
    "__새로운 column : time__\n",
    "\n",
    "- 12시 이전 : 'morning'\n",
    "- 12시 이후, 18시 이전 : 'afternoon'\n",
    "- 18시 이후 : 'evening'"
   ]
  },
  {
   "cell_type": "code",
   "execution_count": 74,
   "id": "a643cebe-ea40-48fe-93f0-c501ee88ef76",
   "metadata": {},
   "outputs": [],
   "source": [
    "con['time'] = 'morning'\n",
    "con.loc[con['tran_time']>=1200,'time'] = 'afternoon'\n",
    "con.loc[con['tran_time']>=1800,'time'] = 'evening'"
   ]
  },
  {
   "cell_type": "code",
   "execution_count": 75,
   "id": "ce9fc418-6535-4125-9b69-cfd5a69197dc",
   "metadata": {},
   "outputs": [
    {
     "data": {
      "text/html": [
       "<div>\n",
       "<style scoped>\n",
       "    .dataframe tbody tr th:only-of-type {\n",
       "        vertical-align: middle;\n",
       "    }\n",
       "\n",
       "    .dataframe tbody tr th {\n",
       "        vertical-align: top;\n",
       "    }\n",
       "\n",
       "    .dataframe thead th {\n",
       "        text-align: right;\n",
       "    }\n",
       "</style>\n",
       "<table border=\"1\" class=\"dataframe\">\n",
       "  <thead>\n",
       "    <tr style=\"text-align: right;\">\n",
       "      <th></th>\n",
       "      <th>tran_time</th>\n",
       "      <th>time</th>\n",
       "    </tr>\n",
       "  </thead>\n",
       "  <tbody>\n",
       "    <tr>\n",
       "      <th>4</th>\n",
       "      <td>1615</td>\n",
       "      <td>afternoon</td>\n",
       "    </tr>\n",
       "    <tr>\n",
       "      <th>6</th>\n",
       "      <td>1459</td>\n",
       "      <td>afternoon</td>\n",
       "    </tr>\n",
       "    <tr>\n",
       "      <th>7</th>\n",
       "      <td>954</td>\n",
       "      <td>morning</td>\n",
       "    </tr>\n",
       "    <tr>\n",
       "      <th>9</th>\n",
       "      <td>908</td>\n",
       "      <td>morning</td>\n",
       "    </tr>\n",
       "    <tr>\n",
       "      <th>11</th>\n",
       "      <td>1417</td>\n",
       "      <td>afternoon</td>\n",
       "    </tr>\n",
       "    <tr>\n",
       "      <th>...</th>\n",
       "      <td>...</td>\n",
       "      <td>...</td>\n",
       "    </tr>\n",
       "    <tr>\n",
       "      <th>1920852</th>\n",
       "      <td>1659</td>\n",
       "      <td>afternoon</td>\n",
       "    </tr>\n",
       "    <tr>\n",
       "      <th>1920855</th>\n",
       "      <td>1729</td>\n",
       "      <td>afternoon</td>\n",
       "    </tr>\n",
       "    <tr>\n",
       "      <th>1920856</th>\n",
       "      <td>1652</td>\n",
       "      <td>afternoon</td>\n",
       "    </tr>\n",
       "    <tr>\n",
       "      <th>1920858</th>\n",
       "      <td>1655</td>\n",
       "      <td>afternoon</td>\n",
       "    </tr>\n",
       "    <tr>\n",
       "      <th>1920864</th>\n",
       "      <td>1223</td>\n",
       "      <td>afternoon</td>\n",
       "    </tr>\n",
       "  </tbody>\n",
       "</table>\n",
       "<p>864120 rows × 2 columns</p>\n",
       "</div>"
      ],
      "text/plain": [
       "         tran_time       time\n",
       "4             1615  afternoon\n",
       "6             1459  afternoon\n",
       "7              954    morning\n",
       "9              908    morning\n",
       "11            1417  afternoon\n",
       "...            ...        ...\n",
       "1920852       1659  afternoon\n",
       "1920855       1729  afternoon\n",
       "1920856       1652  afternoon\n",
       "1920858       1655  afternoon\n",
       "1920864       1223  afternoon\n",
       "\n",
       "[864120 rows x 2 columns]"
      ]
     },
     "execution_count": 75,
     "metadata": {},
     "output_type": "execute_result"
    }
   ],
   "source": [
    "con[['tran_time','time']]"
   ]
  },
  {
   "cell_type": "code",
   "execution_count": 76,
   "id": "fb539747-f9b0-4c2c-bc8e-fad9e204a43d",
   "metadata": {},
   "outputs": [
    {
     "data": {
      "text/plain": [
       "time\n",
       "afternoon    491360\n",
       "morning      255782\n",
       "evening      116978\n",
       "Name: count, dtype: int64"
      ]
     },
     "execution_count": 76,
     "metadata": {},
     "output_type": "execute_result"
    }
   ],
   "source": [
    "con['time'].value_counts()"
   ]
  },
  {
   "cell_type": "markdown",
   "id": "436c97ad-cf60-4a1d-a214-0c8805555337",
   "metadata": {},
   "source": [
    "## 좌석 번호 층/구역/열 3가지 범주로 나누기"
   ]
  },
  {
   "cell_type": "markdown",
   "id": "b99534c8-f978-498d-a240-fb6ff7fd1eb7",
   "metadata": {},
   "source": [
    "__새로운 column__\n",
    "\n",
    "- 층 : 'floor'\n",
    "- 구역 : 'zone'\n",
    "- 열 : 'col'"
   ]
  },
  {
   "cell_type": "code",
   "execution_count": 77,
   "id": "95871f84-ac8e-4cd4-83fd-cdc639b69202",
   "metadata": {},
   "outputs": [
    {
     "data": {
      "text/plain": [
       "1920805    E블록18열\n",
       "1920806    E블록17열\n",
       "1920808     D블록5열\n",
       "1920809    D블록22열\n",
       "1920810    B블록17열\n",
       "1920811     G블록1열\n",
       "1920812     E블록1열\n",
       "1920815     E블록8열\n",
       "1920818    B블록21열\n",
       "1920819    A블록15열\n",
       "1920823    E블록13열\n",
       "1920825     C블록7열\n",
       "1920827     B블록6열\n",
       "1920829    B블록19열\n",
       "1920830     D블록6열\n",
       "1920831     B블록5열\n",
       "1920834     A블록5열\n",
       "1920839     E블록4열\n",
       "1920840     E블록5열\n",
       "1920843     N블록1열\n",
       "1920845    B블록21열\n",
       "1920846     N블록1열\n",
       "1920847     A블록4열\n",
       "1920849     D블록6열\n",
       "1920850     E블록7열\n",
       "1920852     G블록4열\n",
       "1920855     A블록6열\n",
       "1920856    D블록16열\n",
       "1920858    D블록20열\n",
       "1920864     B블록5열\n",
       "Name: seat, dtype: object"
      ]
     },
     "execution_count": 77,
     "metadata": {},
     "output_type": "execute_result"
    }
   ],
   "source": [
    "con['seat'].str.split(' ').str[1].tail(30)"
   ]
  },
  {
   "cell_type": "code",
   "execution_count": 78,
   "id": "345d7ee1-d61f-4b39-919f-b0609deff301",
   "metadata": {},
   "outputs": [],
   "source": [
    "con['floor'] = con['seat'].str.split(' ').str[0]"
   ]
  },
  {
   "cell_type": "code",
   "execution_count": 79,
   "id": "f2d0145c-6263-4c89-8808-b869be029317",
   "metadata": {},
   "outputs": [
    {
     "data": {
      "text/plain": [
       "array(['1층', '3층', '2층', '합창석'], dtype=object)"
      ]
     },
     "execution_count": 79,
     "metadata": {},
     "output_type": "execute_result"
    }
   ],
   "source": [
    "con['floor'].unique()"
   ]
  },
  {
   "cell_type": "code",
   "execution_count": 80,
   "id": "69c390ef-6d64-4de5-be4f-01f97bf01197",
   "metadata": {},
   "outputs": [],
   "source": [
    "con['zone'] = con['seat'].str.split(' ').str[1].str[:3]"
   ]
  },
  {
   "cell_type": "code",
   "execution_count": 81,
   "id": "f34b0499-f411-4a75-840c-2adc57b7efea",
   "metadata": {},
   "outputs": [
    {
     "data": {
      "text/plain": [
       "array(['B블록', 'E블록', 'D블록', 'C블록', 'BOX', 'G블록', 'F블록', 'A블록', 'N블록',\n",
       "       'M블록', 'H블록'], dtype=object)"
      ]
     },
     "execution_count": 81,
     "metadata": {},
     "output_type": "execute_result"
    }
   ],
   "source": [
    "con['zone'].unique()"
   ]
  },
  {
   "cell_type": "code",
   "execution_count": 82,
   "id": "5fcc16fb-3883-4854-9e22-d7e690ee6040",
   "metadata": {},
   "outputs": [],
   "source": [
    "con['col'] = con['seat'].str.split(' ').str[1].str[3:]"
   ]
  },
  {
   "cell_type": "code",
   "execution_count": 83,
   "id": "a44b3987-5cff-4e16-93c0-f89ffd2d2472",
   "metadata": {},
   "outputs": [
    {
     "data": {
      "text/plain": [
       "array(['12열', '4열', '8열', '17열', '9', '2열', '3열', '2', '20열', '10열', '7열',\n",
       "       '5열', '21열', '18열', '22열', '1열', '6열', '16열', '15열', '13열', '11',\n",
       "       '11열', '19열', '14열', '9열', '5', '6', '3', '4', '1', '7', '8', '10',\n",
       "       '12'], dtype=object)"
      ]
     },
     "execution_count": 83,
     "metadata": {},
     "output_type": "execute_result"
    }
   ],
   "source": [
    "con['col'].unique()"
   ]
  },
  {
   "cell_type": "markdown",
   "id": "83d65504-7b56-47bd-81c8-18a406ae9b58",
   "metadata": {},
   "source": [
    "## discount_type 전처리\n"
   ]
  },
  {
   "cell_type": "markdown",
   "id": "fd1c4431-4c84-49e9-b9ee-c9d4df57678b",
   "metadata": {},
   "source": [
    "__새로운 column__\n",
    "- column명 : discount\n",
    "- column value : 할인율, 투플원"
   ]
  },
  {
   "cell_type": "code",
   "execution_count": 84,
   "id": "b58f1b0f-4e90-4f85-bb22-e57560dd9107",
   "metadata": {},
   "outputs": [
    {
     "data": {
      "text/plain": [
       "4          NaN\n",
       "6          NaN\n",
       "7          NaN\n",
       "9          NaN\n",
       "11          20\n",
       "          ... \n",
       "1920852    NaN\n",
       "1920855    NaN\n",
       "1920856    NaN\n",
       "1920858    NaN\n",
       "1920864     30\n",
       "Name: discount, Length: 864120, dtype: object"
      ]
     },
     "execution_count": 84,
     "metadata": {},
     "output_type": "execute_result"
    }
   ],
   "source": [
    "con['discount'] = con['discount_type'].str.extract('([0-9]+)\\%')\n",
    "con['discount']"
   ]
  },
  {
   "cell_type": "code",
   "execution_count": 85,
   "id": "70f90827-0845-4309-8130-743daa32a2fc",
   "metadata": {},
   "outputs": [],
   "source": [
    "con.loc[(~con['discount_type'].str.contains('%')) & (con['discount_type'].str.contains('특별할인')) & (~(con['discount_type'].str.contains('기획사'))),'discount'] = '투플원'"
   ]
  },
  {
   "cell_type": "code",
   "execution_count": 86,
   "id": "d820845c-d932-4a89-9a12-10473f6bfdac",
   "metadata": {},
   "outputs": [
    {
     "data": {
      "text/plain": [
       "array([nan, '20', '30', '40', '50', '5', '10', '25', '15', '60', '35',\n",
       "       '12', '75', '투플원', '80'], dtype=object)"
      ]
     },
     "execution_count": 86,
     "metadata": {},
     "output_type": "execute_result"
    }
   ],
   "source": [
    "con['discount'].unique()"
   ]
  },
  {
   "cell_type": "markdown",
   "id": "98ba9257-5ef7-4693-a60d-112090cbf400",
   "metadata": {},
   "source": [
    "## discount를 사용하여 원가격으로 되돌리기"
   ]
  },
  {
   "cell_type": "markdown",
   "id": "aa659fa2-7443-40af-9028-6fbcd3815345",
   "metadata": {},
   "source": [
    "- discount가 숫자이면 역수를 사용하여 원가격으로 복구\n",
    "- discount가 투플원이라면 ?"
   ]
  },
  {
   "cell_type": "code",
   "execution_count": 93,
   "id": "7328b0b7-7026-45cc-9292-2f68d2c4bff3",
   "metadata": {},
   "outputs": [],
   "source": [
    "import numpy as np\n",
    "def ori_price(discount,price):\n",
    "    if discount.isdigit():\n",
    "        price *= np.reciprocal(1-(int(discount)/100))\n",
    "        return price\n",
    "    elif discount == '투플원':\n",
    "        pass\n",
    "    "
   ]
  },
  {
   "cell_type": "code",
   "execution_count": null,
   "id": "b614dda7-dcc2-4007-82f7-96090cde421f",
   "metadata": {},
   "outputs": [],
   "source": []
  }
 ],
 "metadata": {
  "kernelspec": {
   "display_name": "Python 3 (ipykernel)",
   "language": "python",
   "name": "python3"
  },
  "language_info": {
   "codemirror_mode": {
    "name": "ipython",
    "version": 3
   },
   "file_extension": ".py",
   "mimetype": "text/x-python",
   "name": "python",
   "nbconvert_exporter": "python",
   "pygments_lexer": "ipython3",
   "version": "3.11.4"
  }
 },
 "nbformat": 4,
 "nbformat_minor": 5
}
