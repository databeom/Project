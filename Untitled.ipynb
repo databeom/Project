{
 "cells": [
  {
   "cell_type": "code",
   "execution_count": 2,
   "id": "2ba9be84-d68c-4147-b245-28d1331e6dc0",
   "metadata": {},
   "outputs": [
    {
     "data": {
      "text/html": [
       "<div>\n",
       "<style scoped>\n",
       "    .dataframe tbody tr th:only-of-type {\n",
       "        vertical-align: middle;\n",
       "    }\n",
       "\n",
       "    .dataframe tbody tr th {\n",
       "        vertical-align: top;\n",
       "    }\n",
       "\n",
       "    .dataframe thead th {\n",
       "        text-align: right;\n",
       "    }\n",
       "</style>\n",
       "<table border=\"1\" class=\"dataframe\">\n",
       "  <thead>\n",
       "    <tr style=\"text-align: right;\">\n",
       "      <th></th>\n",
       "      <th>age</th>\n",
       "      <th>gender</th>\n",
       "      <th>membership_type_1</th>\n",
       "      <th>membership_type_2</th>\n",
       "      <th>membership_type_3</th>\n",
       "      <th>membership_type_4</th>\n",
       "      <th>membership_type_5</th>\n",
       "      <th>membership_type_6</th>\n",
       "      <th>tran_date</th>\n",
       "      <th>tran_time</th>\n",
       "      <th>...</th>\n",
       "      <th>ticket_cancel</th>\n",
       "      <th>discount_type</th>\n",
       "      <th>performance_code</th>\n",
       "      <th>pre_open_date</th>\n",
       "      <th>open_date</th>\n",
       "      <th>genre</th>\n",
       "      <th>place</th>\n",
       "      <th>running_time</th>\n",
       "      <th>intermission</th>\n",
       "      <th>member_yn</th>\n",
       "    </tr>\n",
       "  </thead>\n",
       "  <tbody>\n",
       "    <tr>\n",
       "      <th>0</th>\n",
       "      <td>50.0</td>\n",
       "      <td>F</td>\n",
       "      <td>골드</td>\n",
       "      <td>무료</td>\n",
       "      <td>그린</td>\n",
       "      <td>NaN</td>\n",
       "      <td>NaN</td>\n",
       "      <td>NaN</td>\n",
       "      <td>20220114</td>\n",
       "      <td>1512</td>\n",
       "      <td>...</td>\n",
       "      <td>2</td>\n",
       "      <td>일반</td>\n",
       "      <td>302</td>\n",
       "      <td>20220114.0</td>\n",
       "      <td>20220115.0</td>\n",
       "      <td>교향곡</td>\n",
       "      <td>콘서트홀</td>\n",
       "      <td>120</td>\n",
       "      <td>15</td>\n",
       "      <td>Y</td>\n",
       "    </tr>\n",
       "    <tr>\n",
       "      <th>1</th>\n",
       "      <td>NaN</td>\n",
       "      <td>NaN</td>\n",
       "      <td>NaN</td>\n",
       "      <td>NaN</td>\n",
       "      <td>NaN</td>\n",
       "      <td>NaN</td>\n",
       "      <td>NaN</td>\n",
       "      <td>NaN</td>\n",
       "      <td>20211003</td>\n",
       "      <td>1550</td>\n",
       "      <td>...</td>\n",
       "      <td>0</td>\n",
       "      <td>초대권</td>\n",
       "      <td>1120</td>\n",
       "      <td>NaN</td>\n",
       "      <td>20210823.0</td>\n",
       "      <td>독주</td>\n",
       "      <td>리사이틀홀</td>\n",
       "      <td>90</td>\n",
       "      <td>15</td>\n",
       "      <td>N</td>\n",
       "    </tr>\n",
       "    <tr>\n",
       "      <th>2</th>\n",
       "      <td>NaN</td>\n",
       "      <td>NaN</td>\n",
       "      <td>NaN</td>\n",
       "      <td>NaN</td>\n",
       "      <td>NaN</td>\n",
       "      <td>NaN</td>\n",
       "      <td>NaN</td>\n",
       "      <td>NaN</td>\n",
       "      <td>20220917</td>\n",
       "      <td>1520</td>\n",
       "      <td>...</td>\n",
       "      <td>0</td>\n",
       "      <td>초대권</td>\n",
       "      <td>2283</td>\n",
       "      <td>20220911.0</td>\n",
       "      <td>20220911.0</td>\n",
       "      <td>독주</td>\n",
       "      <td>IBK챔버홀</td>\n",
       "      <td>80</td>\n",
       "      <td>15</td>\n",
       "      <td>N</td>\n",
       "    </tr>\n",
       "    <tr>\n",
       "      <th>3</th>\n",
       "      <td>NaN</td>\n",
       "      <td>NaN</td>\n",
       "      <td>NaN</td>\n",
       "      <td>NaN</td>\n",
       "      <td>NaN</td>\n",
       "      <td>NaN</td>\n",
       "      <td>NaN</td>\n",
       "      <td>NaN</td>\n",
       "      <td>20190630</td>\n",
       "      <td>1132</td>\n",
       "      <td>...</td>\n",
       "      <td>0</td>\n",
       "      <td>초대권</td>\n",
       "      <td>2798</td>\n",
       "      <td>NaN</td>\n",
       "      <td>20190701.0</td>\n",
       "      <td>독주</td>\n",
       "      <td>리사이틀홀</td>\n",
       "      <td>90</td>\n",
       "      <td>15</td>\n",
       "      <td>N</td>\n",
       "    </tr>\n",
       "    <tr>\n",
       "      <th>4</th>\n",
       "      <td>50.0</td>\n",
       "      <td>M</td>\n",
       "      <td>무료</td>\n",
       "      <td>NaN</td>\n",
       "      <td>NaN</td>\n",
       "      <td>NaN</td>\n",
       "      <td>NaN</td>\n",
       "      <td>NaN</td>\n",
       "      <td>20220206</td>\n",
       "      <td>1615</td>\n",
       "      <td>...</td>\n",
       "      <td>0</td>\n",
       "      <td>일반</td>\n",
       "      <td>897</td>\n",
       "      <td>20220109.0</td>\n",
       "      <td>20220110.0</td>\n",
       "      <td>독주</td>\n",
       "      <td>콘서트홀</td>\n",
       "      <td>90</td>\n",
       "      <td>0</td>\n",
       "      <td>Y</td>\n",
       "    </tr>\n",
       "  </tbody>\n",
       "</table>\n",
       "<p>5 rows × 24 columns</p>\n",
       "</div>"
      ],
      "text/plain": [
       "    age gender membership_type_1 membership_type_2 membership_type_3  \\\n",
       "0  50.0      F                골드                무료                그린   \n",
       "1   NaN    NaN               NaN               NaN               NaN   \n",
       "2   NaN    NaN               NaN               NaN               NaN   \n",
       "3   NaN    NaN               NaN               NaN               NaN   \n",
       "4  50.0      M                무료               NaN               NaN   \n",
       "\n",
       "  membership_type_4 membership_type_5  membership_type_6  tran_date  \\\n",
       "0               NaN               NaN                NaN   20220114   \n",
       "1               NaN               NaN                NaN   20211003   \n",
       "2               NaN               NaN                NaN   20220917   \n",
       "3               NaN               NaN                NaN   20190630   \n",
       "4               NaN               NaN                NaN   20220206   \n",
       "\n",
       "   tran_time  ...  ticket_cancel  discount_type performance_code  \\\n",
       "0       1512  ...              2             일반              302   \n",
       "1       1550  ...              0            초대권             1120   \n",
       "2       1520  ...              0            초대권             2283   \n",
       "3       1132  ...              0            초대권             2798   \n",
       "4       1615  ...              0             일반              897   \n",
       "\n",
       "   pre_open_date   open_date genre   place  running_time  intermission  \\\n",
       "0     20220114.0  20220115.0   교향곡    콘서트홀           120            15   \n",
       "1            NaN  20210823.0    독주   리사이틀홀            90            15   \n",
       "2     20220911.0  20220911.0    독주  IBK챔버홀            80            15   \n",
       "3            NaN  20190701.0    독주   리사이틀홀            90            15   \n",
       "4     20220109.0  20220110.0    독주    콘서트홀            90             0   \n",
       "\n",
       "  member_yn  \n",
       "0         Y  \n",
       "1         N  \n",
       "2         N  \n",
       "3         N  \n",
       "4         Y  \n",
       "\n",
       "[5 rows x 24 columns]"
      ]
     },
     "execution_count": 2,
     "metadata": {},
     "output_type": "execute_result"
    }
   ],
   "source": [
    "import pandas as pd\n",
    "df = pd.read_csv('big_contest.csv')\n",
    "df.head()"
   ]
  },
  {
   "cell_type": "code",
   "execution_count": 3,
   "id": "133d7a46-cbae-4f51-96d0-512be2dc3c70",
   "metadata": {},
   "outputs": [
    {
     "data": {
      "text/plain": [
       "(1920868, 24)"
      ]
     },
     "execution_count": 3,
     "metadata": {},
     "output_type": "execute_result"
    }
   ],
   "source": [
    "df.shape"
   ]
  },
  {
   "cell_type": "code",
   "execution_count": 4,
   "id": "d72db408-99e0-4658-a852-6cd78b6beef3",
   "metadata": {},
   "outputs": [
    {
     "data": {
      "text/plain": [
       "(1096968, 24)"
      ]
     },
     "execution_count": 4,
     "metadata": {},
     "output_type": "execute_result"
    }
   ],
   "source": [
    "con = df.loc[df['place']=='콘서트홀']\n",
    "con.shape"
   ]
  },
  {
   "cell_type": "markdown",
   "id": "79f2a9e7-3d9f-48a1-8522-6632378517bf",
   "metadata": {},
   "source": [
    "## 공연시작시간 범주 나누기"
   ]
  },
  {
   "cell_type": "markdown",
   "id": "af18bb4c-27af-4945-8db6-710438258264",
   "metadata": {},
   "source": [
    "__새로운 column : time__\n",
    "\n",
    "- 12시 이전 : 'morning'\n",
    "- 12시 이후, 18시 이전 : 'afternoon'\n",
    "- 18시 이후 : 'evening'"
   ]
  },
  {
   "cell_type": "code",
   "execution_count": 13,
   "id": "a643cebe-ea40-48fe-93f0-c501ee88ef76",
   "metadata": {},
   "outputs": [
    {
     "name": "stderr",
     "output_type": "stream",
     "text": [
      "C:\\Users\\Admin\\AppData\\Local\\Temp\\ipykernel_18816\\1340576658.py:1: SettingWithCopyWarning: \n",
      "A value is trying to be set on a copy of a slice from a DataFrame.\n",
      "Try using .loc[row_indexer,col_indexer] = value instead\n",
      "\n",
      "See the caveats in the documentation: https://pandas.pydata.org/pandas-docs/stable/user_guide/indexing.html#returning-a-view-versus-a-copy\n",
      "  con['time'] = 'morning'\n"
     ]
    }
   ],
   "source": [
    "con['time'] = 'morning'\n",
    "con.loc[con['tran_time']>=1200,'time'] = 'afternoon'\n",
    "con.loc[con['tran_time']>=1800,'time'] = 'evening'"
   ]
  },
  {
   "cell_type": "code",
   "execution_count": 15,
   "id": "ce9fc418-6535-4125-9b69-cfd5a69197dc",
   "metadata": {},
   "outputs": [
    {
     "data": {
      "text/html": [
       "<div>\n",
       "<style scoped>\n",
       "    .dataframe tbody tr th:only-of-type {\n",
       "        vertical-align: middle;\n",
       "    }\n",
       "\n",
       "    .dataframe tbody tr th {\n",
       "        vertical-align: top;\n",
       "    }\n",
       "\n",
       "    .dataframe thead th {\n",
       "        text-align: right;\n",
       "    }\n",
       "</style>\n",
       "<table border=\"1\" class=\"dataframe\">\n",
       "  <thead>\n",
       "    <tr style=\"text-align: right;\">\n",
       "      <th></th>\n",
       "      <th>tran_time</th>\n",
       "      <th>time</th>\n",
       "    </tr>\n",
       "  </thead>\n",
       "  <tbody>\n",
       "    <tr>\n",
       "      <th>0</th>\n",
       "      <td>1512</td>\n",
       "      <td>afternoon</td>\n",
       "    </tr>\n",
       "    <tr>\n",
       "      <th>4</th>\n",
       "      <td>1615</td>\n",
       "      <td>afternoon</td>\n",
       "    </tr>\n",
       "    <tr>\n",
       "      <th>5</th>\n",
       "      <td>1145</td>\n",
       "      <td>morning</td>\n",
       "    </tr>\n",
       "    <tr>\n",
       "      <th>6</th>\n",
       "      <td>1459</td>\n",
       "      <td>afternoon</td>\n",
       "    </tr>\n",
       "    <tr>\n",
       "      <th>7</th>\n",
       "      <td>954</td>\n",
       "      <td>morning</td>\n",
       "    </tr>\n",
       "    <tr>\n",
       "      <th>...</th>\n",
       "      <td>...</td>\n",
       "      <td>...</td>\n",
       "    </tr>\n",
       "    <tr>\n",
       "      <th>1920853</th>\n",
       "      <td>1509</td>\n",
       "      <td>afternoon</td>\n",
       "    </tr>\n",
       "    <tr>\n",
       "      <th>1920855</th>\n",
       "      <td>1729</td>\n",
       "      <td>afternoon</td>\n",
       "    </tr>\n",
       "    <tr>\n",
       "      <th>1920856</th>\n",
       "      <td>1652</td>\n",
       "      <td>afternoon</td>\n",
       "    </tr>\n",
       "    <tr>\n",
       "      <th>1920858</th>\n",
       "      <td>1655</td>\n",
       "      <td>afternoon</td>\n",
       "    </tr>\n",
       "    <tr>\n",
       "      <th>1920864</th>\n",
       "      <td>1223</td>\n",
       "      <td>afternoon</td>\n",
       "    </tr>\n",
       "  </tbody>\n",
       "</table>\n",
       "<p>1096968 rows × 2 columns</p>\n",
       "</div>"
      ],
      "text/plain": [
       "         tran_time       time\n",
       "0             1512  afternoon\n",
       "4             1615  afternoon\n",
       "5             1145    morning\n",
       "6             1459  afternoon\n",
       "7              954    morning\n",
       "...            ...        ...\n",
       "1920853       1509  afternoon\n",
       "1920855       1729  afternoon\n",
       "1920856       1652  afternoon\n",
       "1920858       1655  afternoon\n",
       "1920864       1223  afternoon\n",
       "\n",
       "[1096968 rows x 2 columns]"
      ]
     },
     "execution_count": 15,
     "metadata": {},
     "output_type": "execute_result"
    }
   ],
   "source": [
    "con[['tran_time','time']]"
   ]
  },
  {
   "cell_type": "code",
   "execution_count": 16,
   "id": "fb539747-f9b0-4c2c-bc8e-fad9e204a43d",
   "metadata": {},
   "outputs": [
    {
     "data": {
      "text/plain": [
       "time\n",
       "afternoon    602102\n",
       "morning      339003\n",
       "evening      155863\n",
       "Name: count, dtype: int64"
      ]
     },
     "execution_count": 16,
     "metadata": {},
     "output_type": "execute_result"
    }
   ],
   "source": [
    "con['time'].value_counts()"
   ]
  },
  {
   "cell_type": "markdown",
   "id": "436c97ad-cf60-4a1d-a214-0c8805555337",
   "metadata": {},
   "source": [
    "## 좌석 번호 층/구역/열 3가지 범주로 나누기"
   ]
  },
  {
   "cell_type": "markdown",
   "id": "b99534c8-f978-498d-a240-fb6ff7fd1eb7",
   "metadata": {},
   "source": [
    "__새로운 column__\n",
    "\n",
    "- 층 : 'floor'\n",
    "- 구역 : 'zone'\n",
    "- 열 : 'col'"
   ]
  },
  {
   "cell_type": "code",
   "execution_count": 40,
   "id": "95871f84-ac8e-4cd4-83fd-cdc639b69202",
   "metadata": {},
   "outputs": [
    {
     "data": {
      "text/plain": [
       "1920812     E블록1열\n",
       "1920814     A블록5열\n",
       "1920815     E블록8열\n",
       "1920818    B블록21열\n",
       "1920819    A블록15열\n",
       "1920821     E블록2열\n",
       "1920823    E블록13열\n",
       "1920825     C블록7열\n",
       "1920827     B블록6열\n",
       "1920829    B블록19열\n",
       "1920830     D블록6열\n",
       "1920831     B블록5열\n",
       "1920834     A블록5열\n",
       "1920835     D블록3열\n",
       "1920836     B블록3열\n",
       "1920839     E블록4열\n",
       "1920840     E블록5열\n",
       "1920842     C블록5열\n",
       "1920843     N블록1열\n",
       "1920845    B블록21열\n",
       "1920846     N블록1열\n",
       "1920847     A블록4열\n",
       "1920849     D블록6열\n",
       "1920850     E블록7열\n",
       "1920852     G블록4열\n",
       "1920853     A블록2열\n",
       "1920855     A블록6열\n",
       "1920856    D블록16열\n",
       "1920858    D블록20열\n",
       "1920864     B블록5열\n",
       "Name: seat, dtype: object"
      ]
     },
     "execution_count": 40,
     "metadata": {},
     "output_type": "execute_result"
    }
   ],
   "source": [
    "con['seat'].str.split(' ').str[1].tail(30)"
   ]
  },
  {
   "cell_type": "code",
   "execution_count": 28,
   "id": "345d7ee1-d61f-4b39-919f-b0609deff301",
   "metadata": {},
   "outputs": [
    {
     "name": "stderr",
     "output_type": "stream",
     "text": [
      "C:\\Users\\Admin\\AppData\\Local\\Temp\\ipykernel_18816\\2807325395.py:1: SettingWithCopyWarning: \n",
      "A value is trying to be set on a copy of a slice from a DataFrame.\n",
      "Try using .loc[row_indexer,col_indexer] = value instead\n",
      "\n",
      "See the caveats in the documentation: https://pandas.pydata.org/pandas-docs/stable/user_guide/indexing.html#returning-a-view-versus-a-copy\n",
      "  con['floor'] = con['seat'].str.split(' ').str[0]\n"
     ]
    }
   ],
   "source": [
    "con['floor'] = con['seat'].str.split(' ').str[0]"
   ]
  },
  {
   "cell_type": "code",
   "execution_count": 30,
   "id": "f2d0145c-6263-4c89-8808-b869be029317",
   "metadata": {},
   "outputs": [
    {
     "data": {
      "text/plain": [
       "array(['3층', '1층', '2층', '합창석'], dtype=object)"
      ]
     },
     "execution_count": 30,
     "metadata": {},
     "output_type": "execute_result"
    }
   ],
   "source": [
    "con['floor'].unique()"
   ]
  },
  {
   "cell_type": "code",
   "execution_count": 33,
   "id": "69c390ef-6d64-4de5-be4f-01f97bf01197",
   "metadata": {},
   "outputs": [
    {
     "name": "stderr",
     "output_type": "stream",
     "text": [
      "C:\\Users\\Admin\\AppData\\Local\\Temp\\ipykernel_18816\\3344619683.py:1: SettingWithCopyWarning: \n",
      "A value is trying to be set on a copy of a slice from a DataFrame.\n",
      "Try using .loc[row_indexer,col_indexer] = value instead\n",
      "\n",
      "See the caveats in the documentation: https://pandas.pydata.org/pandas-docs/stable/user_guide/indexing.html#returning-a-view-versus-a-copy\n",
      "  con['zone'] = con['seat'].str.split(' ').str[1].str[:3]\n"
     ]
    }
   ],
   "source": [
    "con['zone'] = con['seat'].str.split(' ').str[1].str[:3]"
   ]
  },
  {
   "cell_type": "code",
   "execution_count": 34,
   "id": "f34b0499-f411-4a75-840c-2adc57b7efea",
   "metadata": {},
   "outputs": [
    {
     "data": {
      "text/plain": [
       "array(['BOX', 'B블록', 'A블록', 'E블록', 'D블록', 'C블록', 'G블록', 'M블록', 'F블록',\n",
       "       'N블록', 'H블록'], dtype=object)"
      ]
     },
     "execution_count": 34,
     "metadata": {},
     "output_type": "execute_result"
    }
   ],
   "source": [
    "con['zone'].unique()"
   ]
  },
  {
   "cell_type": "code",
   "execution_count": 35,
   "id": "5fcc16fb-3883-4854-9e22-d7e690ee6040",
   "metadata": {},
   "outputs": [
    {
     "name": "stderr",
     "output_type": "stream",
     "text": [
      "C:\\Users\\Admin\\AppData\\Local\\Temp\\ipykernel_18816\\3049149981.py:1: SettingWithCopyWarning: \n",
      "A value is trying to be set on a copy of a slice from a DataFrame.\n",
      "Try using .loc[row_indexer,col_indexer] = value instead\n",
      "\n",
      "See the caveats in the documentation: https://pandas.pydata.org/pandas-docs/stable/user_guide/indexing.html#returning-a-view-versus-a-copy\n",
      "  con['col'] = con['seat'].str.split(' ').str[1].str[3:]\n"
     ]
    }
   ],
   "source": [
    "con['col'] = con['seat'].str.split(' ').str[1].str[3:]"
   ]
  },
  {
   "cell_type": "code",
   "execution_count": 36,
   "id": "a44b3987-5cff-4e16-93c0-f89ffd2d2472",
   "metadata": {},
   "outputs": [
    {
     "data": {
      "text/plain": [
       "array(['9', '12열', '2열', '4열', '8열', '17열', '12', '3열', '2', '20열', '10열',\n",
       "       '7열', '5열', '21열', '18열', '1열', '15열', '22열', '19열', '6열', '16열',\n",
       "       '14열', '13열', '11', '11열', '3', '9열', '5', '1', '6', '4', '7', '8',\n",
       "       '10'], dtype=object)"
      ]
     },
     "execution_count": 36,
     "metadata": {},
     "output_type": "execute_result"
    }
   ],
   "source": [
    "con['col'].unique()"
   ]
  },
  {
   "cell_type": "markdown",
   "id": "83d65504-7b56-47bd-81c8-18a406ae9b58",
   "metadata": {},
   "source": [
    "## discount_type 전처리"
   ]
  },
  {
   "cell_type": "code",
   "execution_count": 40,
   "id": "cc2581c2-a00a-4af8-8d18-fe761e99647b",
   "metadata": {},
   "outputs": [],
   "source": [
    "con2 = con[con['discount_type'].str.contains('%')]"
   ]
  },
  {
   "cell_type": "code",
   "execution_count": 38,
   "id": "67a1358d-16af-40d4-842e-fc1d7a044bec",
   "metadata": {},
   "outputs": [
    {
     "name": "stderr",
     "output_type": "stream",
     "text": [
      "C:\\Users\\Admin\\AppData\\Local\\Temp\\ipykernel_2604\\2290628761.py:1: SettingWithCopyWarning: \n",
      "A value is trying to be set on a copy of a slice from a DataFrame.\n",
      "Try using .loc[row_indexer,col_indexer] = value instead\n",
      "\n",
      "See the caveats in the documentation: https://pandas.pydata.org/pandas-docs/stable/user_guide/indexing.html#returning-a-view-versus-a-copy\n",
      "  con2['discount_type'] = con2['discount_type'].str[:(((con2['discount_type'].str.find('%'))+1))]\n"
     ]
    }
   ],
   "source": [
    "con2['discount_type'] = con2['discount_type'].str[:(((con2['discount_type'].str.find('%'))+1))]"
   ]
  },
  {
   "cell_type": "code",
   "execution_count": 41,
   "id": "4790a5a2-9373-41e1-8218-87659e820713",
   "metadata": {},
   "outputs": [
    {
     "data": {
      "text/plain": [
       "5          10\n",
       "11         22\n",
       "18         10\n",
       "28         10\n",
       "29         27\n",
       "           ..\n",
       "1920821    10\n",
       "1920834    10\n",
       "1920836    10\n",
       "1920842     9\n",
       "1920864    20\n",
       "Name: discount_type, Length: 330980, dtype: int64"
      ]
     },
     "execution_count": 41,
     "metadata": {},
     "output_type": "execute_result"
    }
   ],
   "source": [
    "con2['discount_type'].str.find('%')+1"
   ]
  },
  {
   "cell_type": "code",
   "execution_count": 43,
   "id": "d6a9393a-5fe1-4b10-a4a4-5733a21395cc",
   "metadata": {},
   "outputs": [
    {
     "data": {
      "text/plain": [
       "5          10\n",
       "11         22\n",
       "18         10\n",
       "28         10\n",
       "29         27\n",
       "           ..\n",
       "1920821    10\n",
       "1920834    10\n",
       "1920836    10\n",
       "1920842     9\n",
       "1920864    20\n",
       "Name: discount_type, Length: 330980, dtype: int64"
      ]
     },
     "execution_count": 43,
     "metadata": {},
     "output_type": "execute_result"
    }
   ],
   "source": [
    "con['per_idx'] = con2['discount_type'].str.index('%')+1"
   ]
  },
  {
   "cell_type": "code",
   "execution_count": 44,
   "id": "e96dbe2e-3142-44b7-a20d-9a9d25bd8613",
   "metadata": {},
   "outputs": [
    {
     "data": {
      "text/plain": [
       "5                           블루회원 할인20%\n",
       "11              K-lang 멤버십 회원(1인2매)20%\n",
       "18                          골드회원 할인30%\n",
       "28                          싹틔우미 할인40%\n",
       "29         라흐마니노프탄생150주년(8매/3.27까지)20%\n",
       "                      ...             \n",
       "1920821                     골드회원 할인30%\n",
       "1920834                     싹딜가(그린)50%\n",
       "1920836                     골드회원 할인30%\n",
       "1920842                      그린회원 할인5%\n",
       "1920864           청소년(만7세~만24세/본인만)30%\n",
       "Name: discount_type, Length: 330980, dtype: object"
      ]
     },
     "execution_count": 44,
     "metadata": {},
     "output_type": "execute_result"
    }
   ],
   "source": [
    "con2['discount_type']"
   ]
  },
  {
   "cell_type": "code",
   "execution_count": 45,
   "id": "188e3ab8-80ac-4735-894c-137b57b2ee40",
   "metadata": {},
   "outputs": [
    {
     "data": {
      "text/html": [
       "<div>\n",
       "<style scoped>\n",
       "    .dataframe tbody tr th:only-of-type {\n",
       "        vertical-align: middle;\n",
       "    }\n",
       "\n",
       "    .dataframe tbody tr th {\n",
       "        vertical-align: top;\n",
       "    }\n",
       "\n",
       "    .dataframe thead th {\n",
       "        text-align: right;\n",
       "    }\n",
       "</style>\n",
       "<table border=\"1\" class=\"dataframe\">\n",
       "  <thead>\n",
       "    <tr style=\"text-align: right;\">\n",
       "      <th></th>\n",
       "      <th>age</th>\n",
       "      <th>gender</th>\n",
       "      <th>membership_type_1</th>\n",
       "      <th>membership_type_2</th>\n",
       "      <th>membership_type_3</th>\n",
       "      <th>membership_type_4</th>\n",
       "      <th>membership_type_5</th>\n",
       "      <th>membership_type_6</th>\n",
       "      <th>tran_date</th>\n",
       "      <th>tran_time</th>\n",
       "      <th>...</th>\n",
       "      <th>ticket_cancel</th>\n",
       "      <th>discount_type</th>\n",
       "      <th>performance_code</th>\n",
       "      <th>pre_open_date</th>\n",
       "      <th>open_date</th>\n",
       "      <th>genre</th>\n",
       "      <th>place</th>\n",
       "      <th>running_time</th>\n",
       "      <th>intermission</th>\n",
       "      <th>member_yn</th>\n",
       "    </tr>\n",
       "  </thead>\n",
       "  <tbody>\n",
       "    <tr>\n",
       "      <th>0</th>\n",
       "      <td>50.0</td>\n",
       "      <td>F</td>\n",
       "      <td>골드</td>\n",
       "      <td>무료</td>\n",
       "      <td>그린</td>\n",
       "      <td>NaN</td>\n",
       "      <td>NaN</td>\n",
       "      <td>NaN</td>\n",
       "      <td>20220114</td>\n",
       "      <td>1512</td>\n",
       "      <td>...</td>\n",
       "      <td>2</td>\n",
       "      <td>일반</td>\n",
       "      <td>302</td>\n",
       "      <td>20220114.0</td>\n",
       "      <td>20220115.0</td>\n",
       "      <td>교향곡</td>\n",
       "      <td>콘서트홀</td>\n",
       "      <td>120</td>\n",
       "      <td>15</td>\n",
       "      <td>Y</td>\n",
       "    </tr>\n",
       "    <tr>\n",
       "      <th>4</th>\n",
       "      <td>50.0</td>\n",
       "      <td>M</td>\n",
       "      <td>무료</td>\n",
       "      <td>NaN</td>\n",
       "      <td>NaN</td>\n",
       "      <td>NaN</td>\n",
       "      <td>NaN</td>\n",
       "      <td>NaN</td>\n",
       "      <td>20220206</td>\n",
       "      <td>1615</td>\n",
       "      <td>...</td>\n",
       "      <td>0</td>\n",
       "      <td>일반</td>\n",
       "      <td>897</td>\n",
       "      <td>20220109.0</td>\n",
       "      <td>20220110.0</td>\n",
       "      <td>독주</td>\n",
       "      <td>콘서트홀</td>\n",
       "      <td>90</td>\n",
       "      <td>0</td>\n",
       "      <td>Y</td>\n",
       "    </tr>\n",
       "    <tr>\n",
       "      <th>5</th>\n",
       "      <td>30.0</td>\n",
       "      <td>F</td>\n",
       "      <td>블루</td>\n",
       "      <td>무료</td>\n",
       "      <td>NaN</td>\n",
       "      <td>NaN</td>\n",
       "      <td>NaN</td>\n",
       "      <td>NaN</td>\n",
       "      <td>20181124</td>\n",
       "      <td>1145</td>\n",
       "      <td>...</td>\n",
       "      <td>2</td>\n",
       "      <td>블루회원 할인20%</td>\n",
       "      <td>528</td>\n",
       "      <td>20181119.0</td>\n",
       "      <td>20181119.0</td>\n",
       "      <td>교향곡</td>\n",
       "      <td>콘서트홀</td>\n",
       "      <td>100</td>\n",
       "      <td>15</td>\n",
       "      <td>Y</td>\n",
       "    </tr>\n",
       "    <tr>\n",
       "      <th>6</th>\n",
       "      <td>NaN</td>\n",
       "      <td>NaN</td>\n",
       "      <td>NaN</td>\n",
       "      <td>NaN</td>\n",
       "      <td>NaN</td>\n",
       "      <td>NaN</td>\n",
       "      <td>NaN</td>\n",
       "      <td>NaN</td>\n",
       "      <td>20191020</td>\n",
       "      <td>1459</td>\n",
       "      <td>...</td>\n",
       "      <td>0</td>\n",
       "      <td>초대권</td>\n",
       "      <td>44</td>\n",
       "      <td>NaN</td>\n",
       "      <td>20191023.0</td>\n",
       "      <td>교향곡</td>\n",
       "      <td>콘서트홀</td>\n",
       "      <td>100</td>\n",
       "      <td>15</td>\n",
       "      <td>N</td>\n",
       "    </tr>\n",
       "    <tr>\n",
       "      <th>7</th>\n",
       "      <td>NaN</td>\n",
       "      <td>NaN</td>\n",
       "      <td>NaN</td>\n",
       "      <td>NaN</td>\n",
       "      <td>NaN</td>\n",
       "      <td>NaN</td>\n",
       "      <td>NaN</td>\n",
       "      <td>NaN</td>\n",
       "      <td>20190613</td>\n",
       "      <td>954</td>\n",
       "      <td>...</td>\n",
       "      <td>0</td>\n",
       "      <td>초대권</td>\n",
       "      <td>827</td>\n",
       "      <td>20190602.0</td>\n",
       "      <td>20190602.0</td>\n",
       "      <td>교향곡</td>\n",
       "      <td>콘서트홀</td>\n",
       "      <td>120</td>\n",
       "      <td>20</td>\n",
       "      <td>N</td>\n",
       "    </tr>\n",
       "    <tr>\n",
       "      <th>...</th>\n",
       "      <td>...</td>\n",
       "      <td>...</td>\n",
       "      <td>...</td>\n",
       "      <td>...</td>\n",
       "      <td>...</td>\n",
       "      <td>...</td>\n",
       "      <td>...</td>\n",
       "      <td>...</td>\n",
       "      <td>...</td>\n",
       "      <td>...</td>\n",
       "      <td>...</td>\n",
       "      <td>...</td>\n",
       "      <td>...</td>\n",
       "      <td>...</td>\n",
       "      <td>...</td>\n",
       "      <td>...</td>\n",
       "      <td>...</td>\n",
       "      <td>...</td>\n",
       "      <td>...</td>\n",
       "      <td>...</td>\n",
       "      <td>...</td>\n",
       "    </tr>\n",
       "    <tr>\n",
       "      <th>1920853</th>\n",
       "      <td>60.0</td>\n",
       "      <td>F</td>\n",
       "      <td>무료</td>\n",
       "      <td>그린</td>\n",
       "      <td>NaN</td>\n",
       "      <td>NaN</td>\n",
       "      <td>NaN</td>\n",
       "      <td>NaN</td>\n",
       "      <td>20210618</td>\n",
       "      <td>1509</td>\n",
       "      <td>...</td>\n",
       "      <td>2</td>\n",
       "      <td>일반</td>\n",
       "      <td>887</td>\n",
       "      <td>20210618.0</td>\n",
       "      <td>20210620.0</td>\n",
       "      <td>교향곡</td>\n",
       "      <td>콘서트홀</td>\n",
       "      <td>110</td>\n",
       "      <td>20</td>\n",
       "      <td>Y</td>\n",
       "    </tr>\n",
       "    <tr>\n",
       "      <th>1920855</th>\n",
       "      <td>50.0</td>\n",
       "      <td>M</td>\n",
       "      <td>무료</td>\n",
       "      <td>NaN</td>\n",
       "      <td>NaN</td>\n",
       "      <td>NaN</td>\n",
       "      <td>NaN</td>\n",
       "      <td>NaN</td>\n",
       "      <td>20230522</td>\n",
       "      <td>1729</td>\n",
       "      <td>...</td>\n",
       "      <td>0</td>\n",
       "      <td>일반</td>\n",
       "      <td>2825</td>\n",
       "      <td>20230505.0</td>\n",
       "      <td>20230507.0</td>\n",
       "      <td>교향곡</td>\n",
       "      <td>콘서트홀</td>\n",
       "      <td>120</td>\n",
       "      <td>15</td>\n",
       "      <td>Y</td>\n",
       "    </tr>\n",
       "    <tr>\n",
       "      <th>1920856</th>\n",
       "      <td>NaN</td>\n",
       "      <td>NaN</td>\n",
       "      <td>NaN</td>\n",
       "      <td>NaN</td>\n",
       "      <td>NaN</td>\n",
       "      <td>NaN</td>\n",
       "      <td>NaN</td>\n",
       "      <td>NaN</td>\n",
       "      <td>20201009</td>\n",
       "      <td>1652</td>\n",
       "      <td>...</td>\n",
       "      <td>0</td>\n",
       "      <td>초대권</td>\n",
       "      <td>77</td>\n",
       "      <td>NaN</td>\n",
       "      <td>20200920.0</td>\n",
       "      <td>클래식</td>\n",
       "      <td>콘서트홀</td>\n",
       "      <td>120</td>\n",
       "      <td>15</td>\n",
       "      <td>N</td>\n",
       "    </tr>\n",
       "    <tr>\n",
       "      <th>1920858</th>\n",
       "      <td>NaN</td>\n",
       "      <td>NaN</td>\n",
       "      <td>NaN</td>\n",
       "      <td>NaN</td>\n",
       "      <td>NaN</td>\n",
       "      <td>NaN</td>\n",
       "      <td>NaN</td>\n",
       "      <td>NaN</td>\n",
       "      <td>20200726</td>\n",
       "      <td>1655</td>\n",
       "      <td>...</td>\n",
       "      <td>0</td>\n",
       "      <td>기획사판매</td>\n",
       "      <td>850</td>\n",
       "      <td>20200719.0</td>\n",
       "      <td>20200720.0</td>\n",
       "      <td>합창</td>\n",
       "      <td>콘서트홀</td>\n",
       "      <td>110</td>\n",
       "      <td>15</td>\n",
       "      <td>N</td>\n",
       "    </tr>\n",
       "    <tr>\n",
       "      <th>1920864</th>\n",
       "      <td>20.0</td>\n",
       "      <td>F</td>\n",
       "      <td>무료</td>\n",
       "      <td>싹틔우미</td>\n",
       "      <td>NaN</td>\n",
       "      <td>NaN</td>\n",
       "      <td>NaN</td>\n",
       "      <td>NaN</td>\n",
       "      <td>20221224</td>\n",
       "      <td>1223</td>\n",
       "      <td>...</td>\n",
       "      <td>0</td>\n",
       "      <td>청소년(만7세~만24세/본인만)30%</td>\n",
       "      <td>313</td>\n",
       "      <td>NaN</td>\n",
       "      <td>20221223.0</td>\n",
       "      <td>교향곡</td>\n",
       "      <td>콘서트홀</td>\n",
       "      <td>120</td>\n",
       "      <td>0</td>\n",
       "      <td>Y</td>\n",
       "    </tr>\n",
       "  </tbody>\n",
       "</table>\n",
       "<p>1096968 rows × 24 columns</p>\n",
       "</div>"
      ],
      "text/plain": [
       "          age gender membership_type_1 membership_type_2 membership_type_3  \\\n",
       "0        50.0      F                골드                무료                그린   \n",
       "4        50.0      M                무료               NaN               NaN   \n",
       "5        30.0      F                블루                무료               NaN   \n",
       "6         NaN    NaN               NaN               NaN               NaN   \n",
       "7         NaN    NaN               NaN               NaN               NaN   \n",
       "...       ...    ...               ...               ...               ...   \n",
       "1920853  60.0      F                무료                그린               NaN   \n",
       "1920855  50.0      M                무료               NaN               NaN   \n",
       "1920856   NaN    NaN               NaN               NaN               NaN   \n",
       "1920858   NaN    NaN               NaN               NaN               NaN   \n",
       "1920864  20.0      F                무료              싹틔우미               NaN   \n",
       "\n",
       "        membership_type_4 membership_type_5  membership_type_6  tran_date  \\\n",
       "0                     NaN               NaN                NaN   20220114   \n",
       "4                     NaN               NaN                NaN   20220206   \n",
       "5                     NaN               NaN                NaN   20181124   \n",
       "6                     NaN               NaN                NaN   20191020   \n",
       "7                     NaN               NaN                NaN   20190613   \n",
       "...                   ...               ...                ...        ...   \n",
       "1920853               NaN               NaN                NaN   20210618   \n",
       "1920855               NaN               NaN                NaN   20230522   \n",
       "1920856               NaN               NaN                NaN   20201009   \n",
       "1920858               NaN               NaN                NaN   20200726   \n",
       "1920864               NaN               NaN                NaN   20221224   \n",
       "\n",
       "         tran_time  ...  ticket_cancel         discount_type performance_code  \\\n",
       "0             1512  ...              2                    일반              302   \n",
       "4             1615  ...              0                    일반              897   \n",
       "5             1145  ...              2            블루회원 할인20%              528   \n",
       "6             1459  ...              0                   초대권               44   \n",
       "7              954  ...              0                   초대권              827   \n",
       "...            ...  ...            ...                   ...              ...   \n",
       "1920853       1509  ...              2                    일반              887   \n",
       "1920855       1729  ...              0                    일반             2825   \n",
       "1920856       1652  ...              0                   초대권               77   \n",
       "1920858       1655  ...              0                 기획사판매              850   \n",
       "1920864       1223  ...              0  청소년(만7세~만24세/본인만)30%              313   \n",
       "\n",
       "         pre_open_date   open_date genre  place  running_time  intermission  \\\n",
       "0           20220114.0  20220115.0   교향곡   콘서트홀           120            15   \n",
       "4           20220109.0  20220110.0    독주   콘서트홀            90             0   \n",
       "5           20181119.0  20181119.0   교향곡   콘서트홀           100            15   \n",
       "6                  NaN  20191023.0   교향곡   콘서트홀           100            15   \n",
       "7           20190602.0  20190602.0   교향곡   콘서트홀           120            20   \n",
       "...                ...         ...   ...    ...           ...           ...   \n",
       "1920853     20210618.0  20210620.0   교향곡   콘서트홀           110            20   \n",
       "1920855     20230505.0  20230507.0   교향곡   콘서트홀           120            15   \n",
       "1920856            NaN  20200920.0   클래식   콘서트홀           120            15   \n",
       "1920858     20200719.0  20200720.0    합창   콘서트홀           110            15   \n",
       "1920864            NaN  20221223.0   교향곡   콘서트홀           120             0   \n",
       "\n",
       "        member_yn  \n",
       "0               Y  \n",
       "4               Y  \n",
       "5               Y  \n",
       "6               N  \n",
       "7               N  \n",
       "...           ...  \n",
       "1920853         Y  \n",
       "1920855         Y  \n",
       "1920856         N  \n",
       "1920858         N  \n",
       "1920864         Y  \n",
       "\n",
       "[1096968 rows x 24 columns]"
      ]
     },
     "execution_count": 45,
     "metadata": {},
     "output_type": "execute_result"
    }
   ],
   "source": [
    "con"
   ]
  },
  {
   "cell_type": "code",
   "execution_count": 47,
   "id": "83f1b4f4-3ad5-4191-afe4-b196333e1a08",
   "metadata": {},
   "outputs": [],
   "source": [
    "con_2 = con[con['ticket_cancel']==0]"
   ]
  },
  {
   "cell_type": "code",
   "execution_count": 48,
   "id": "b7b6dc16-b626-49ce-8241-3b57e1b68761",
   "metadata": {},
   "outputs": [
    {
     "data": {
      "text/plain": [
       "Index(['age', 'gender', 'membership_type_1', 'membership_type_2',\n",
       "       'membership_type_3', 'membership_type_4', 'membership_type_5',\n",
       "       'membership_type_6', 'tran_date', 'tran_time', 'play_date',\n",
       "       'play_st_time', 'seat', 'price', 'ticket_cancel', 'discount_type',\n",
       "       'performance_code', 'pre_open_date', 'open_date', 'genre', 'place',\n",
       "       'running_time', 'intermission', 'member_yn'],\n",
       "      dtype='object')"
      ]
     },
     "execution_count": 48,
     "metadata": {},
     "output_type": "execute_result"
    }
   ],
   "source": [
    "con_2.columns"
   ]
  },
  {
   "cell_type": "code",
   "execution_count": 58,
   "id": "5764ba8d-ae30-47ca-9e5a-d9dc7d96d2c6",
   "metadata": {},
   "outputs": [
    {
     "data": {
      "text/html": [
       "<div>\n",
       "<style scoped>\n",
       "    .dataframe tbody tr th:only-of-type {\n",
       "        vertical-align: middle;\n",
       "    }\n",
       "\n",
       "    .dataframe tbody tr th {\n",
       "        vertical-align: top;\n",
       "    }\n",
       "\n",
       "    .dataframe thead th {\n",
       "        text-align: right;\n",
       "    }\n",
       "</style>\n",
       "<table border=\"1\" class=\"dataframe\">\n",
       "  <thead>\n",
       "    <tr style=\"text-align: right;\">\n",
       "      <th></th>\n",
       "      <th>play_date</th>\n",
       "      <th>play_st_time</th>\n",
       "      <th>running_time</th>\n",
       "      <th>intermission</th>\n",
       "    </tr>\n",
       "  </thead>\n",
       "  <tbody>\n",
       "    <tr>\n",
       "      <th>4</th>\n",
       "      <td>20220302</td>\n",
       "      <td>1930</td>\n",
       "      <td>90</td>\n",
       "      <td>0</td>\n",
       "    </tr>\n",
       "    <tr>\n",
       "      <th>6</th>\n",
       "      <td>20191109</td>\n",
       "      <td>1700</td>\n",
       "      <td>100</td>\n",
       "      <td>15</td>\n",
       "    </tr>\n",
       "    <tr>\n",
       "      <th>7</th>\n",
       "      <td>20190723</td>\n",
       "      <td>2000</td>\n",
       "      <td>120</td>\n",
       "      <td>20</td>\n",
       "    </tr>\n",
       "    <tr>\n",
       "      <th>9</th>\n",
       "      <td>20190721</td>\n",
       "      <td>1700</td>\n",
       "      <td>100</td>\n",
       "      <td>15</td>\n",
       "    </tr>\n",
       "    <tr>\n",
       "      <th>11</th>\n",
       "      <td>20191201</td>\n",
       "      <td>1700</td>\n",
       "      <td>120</td>\n",
       "      <td>15</td>\n",
       "    </tr>\n",
       "    <tr>\n",
       "      <th>...</th>\n",
       "      <td>...</td>\n",
       "      <td>...</td>\n",
       "      <td>...</td>\n",
       "      <td>...</td>\n",
       "    </tr>\n",
       "    <tr>\n",
       "      <th>1920852</th>\n",
       "      <td>20190523</td>\n",
       "      <td>1930</td>\n",
       "      <td>120</td>\n",
       "      <td>15</td>\n",
       "    </tr>\n",
       "    <tr>\n",
       "      <th>1920855</th>\n",
       "      <td>20230613</td>\n",
       "      <td>1700</td>\n",
       "      <td>120</td>\n",
       "      <td>15</td>\n",
       "    </tr>\n",
       "    <tr>\n",
       "      <th>1920856</th>\n",
       "      <td>20201020</td>\n",
       "      <td>1930</td>\n",
       "      <td>120</td>\n",
       "      <td>15</td>\n",
       "    </tr>\n",
       "    <tr>\n",
       "      <th>1920858</th>\n",
       "      <td>20200818</td>\n",
       "      <td>1930</td>\n",
       "      <td>110</td>\n",
       "      <td>15</td>\n",
       "    </tr>\n",
       "    <tr>\n",
       "      <th>1920864</th>\n",
       "      <td>20230408</td>\n",
       "      <td>1700</td>\n",
       "      <td>120</td>\n",
       "      <td>0</td>\n",
       "    </tr>\n",
       "  </tbody>\n",
       "</table>\n",
       "<p>864120 rows × 4 columns</p>\n",
       "</div>"
      ],
      "text/plain": [
       "         play_date  play_st_time  running_time  intermission\n",
       "4         20220302          1930            90             0\n",
       "6         20191109          1700           100            15\n",
       "7         20190723          2000           120            20\n",
       "9         20190721          1700           100            15\n",
       "11        20191201          1700           120            15\n",
       "...            ...           ...           ...           ...\n",
       "1920852   20190523          1930           120            15\n",
       "1920855   20230613          1700           120            15\n",
       "1920856   20201020          1930           120            15\n",
       "1920858   20200818          1930           110            15\n",
       "1920864   20230408          1700           120             0\n",
       "\n",
       "[864120 rows x 4 columns]"
      ]
     },
     "execution_count": 58,
     "metadata": {},
     "output_type": "execute_result"
    }
   ],
   "source": [
    "con_2[['play_date','play_st_time','running_time','intermission']]"
   ]
  },
  {
   "cell_type": "code",
   "execution_count": 60,
   "id": "b6777083-e0ce-4204-92f3-76a6ce6bda9e",
   "metadata": {},
   "outputs": [
    {
     "data": {
      "text/plain": [
       "808"
      ]
     },
     "execution_count": 60,
     "metadata": {},
     "output_type": "execute_result"
    }
   ],
   "source": [
    "len(con_2[con_2['play_date']==20201020])"
   ]
  },
  {
   "cell_type": "code",
   "execution_count": null,
   "id": "3ed595c3-2549-4a85-8532-4b188a0142a0",
   "metadata": {},
   "outputs": [],
   "source": []
  }
 ],
 "metadata": {
  "kernelspec": {
   "display_name": "Python 3 (ipykernel)",
   "language": "python",
   "name": "python3"
  },
  "language_info": {
   "codemirror_mode": {
    "name": "ipython",
    "version": 3
   },
   "file_extension": ".py",
   "mimetype": "text/x-python",
   "name": "python",
   "nbconvert_exporter": "python",
   "pygments_lexer": "ipython3",
   "version": "3.11.4"
  }
 },
 "nbformat": 4,
 "nbformat_minor": 5
}
