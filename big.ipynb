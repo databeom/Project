{
 "cells": [
  {
   "cell_type": "code",
   "execution_count": 1,
   "id": "091217d3-7380-4580-8775-ec12b7c7b248",
   "metadata": {},
   "outputs": [
    {
     "data": {
      "text/html": [
       "<div>\n",
       "<style scoped>\n",
       "    .dataframe tbody tr th:only-of-type {\n",
       "        vertical-align: middle;\n",
       "    }\n",
       "\n",
       "    .dataframe tbody tr th {\n",
       "        vertical-align: top;\n",
       "    }\n",
       "\n",
       "    .dataframe thead th {\n",
       "        text-align: right;\n",
       "    }\n",
       "</style>\n",
       "<table border=\"1\" class=\"dataframe\">\n",
       "  <thead>\n",
       "    <tr style=\"text-align: right;\">\n",
       "      <th></th>\n",
       "      <th>age</th>\n",
       "      <th>gender</th>\n",
       "      <th>membership_type_1</th>\n",
       "      <th>membership_type_2</th>\n",
       "      <th>membership_type_3</th>\n",
       "      <th>membership_type_4</th>\n",
       "      <th>membership_type_5</th>\n",
       "      <th>membership_type_6</th>\n",
       "      <th>tran_date</th>\n",
       "      <th>tran_time</th>\n",
       "      <th>...</th>\n",
       "      <th>ticket_cancel</th>\n",
       "      <th>discount_type</th>\n",
       "      <th>performance_code</th>\n",
       "      <th>pre_open_date</th>\n",
       "      <th>open_date</th>\n",
       "      <th>genre</th>\n",
       "      <th>place</th>\n",
       "      <th>running_time</th>\n",
       "      <th>intermission</th>\n",
       "      <th>member_yn</th>\n",
       "    </tr>\n",
       "  </thead>\n",
       "  <tbody>\n",
       "    <tr>\n",
       "      <th>0</th>\n",
       "      <td>50.0</td>\n",
       "      <td>F</td>\n",
       "      <td>골드</td>\n",
       "      <td>무료</td>\n",
       "      <td>그린</td>\n",
       "      <td>NaN</td>\n",
       "      <td>NaN</td>\n",
       "      <td>NaN</td>\n",
       "      <td>20220114</td>\n",
       "      <td>1512</td>\n",
       "      <td>...</td>\n",
       "      <td>2</td>\n",
       "      <td>일반</td>\n",
       "      <td>302</td>\n",
       "      <td>20220114.0</td>\n",
       "      <td>20220115.0</td>\n",
       "      <td>교향곡</td>\n",
       "      <td>콘서트홀</td>\n",
       "      <td>120</td>\n",
       "      <td>15</td>\n",
       "      <td>Y</td>\n",
       "    </tr>\n",
       "    <tr>\n",
       "      <th>1</th>\n",
       "      <td>NaN</td>\n",
       "      <td>NaN</td>\n",
       "      <td>NaN</td>\n",
       "      <td>NaN</td>\n",
       "      <td>NaN</td>\n",
       "      <td>NaN</td>\n",
       "      <td>NaN</td>\n",
       "      <td>NaN</td>\n",
       "      <td>20211003</td>\n",
       "      <td>1550</td>\n",
       "      <td>...</td>\n",
       "      <td>0</td>\n",
       "      <td>초대권</td>\n",
       "      <td>1120</td>\n",
       "      <td>NaN</td>\n",
       "      <td>20210823.0</td>\n",
       "      <td>독주</td>\n",
       "      <td>리사이틀홀</td>\n",
       "      <td>90</td>\n",
       "      <td>15</td>\n",
       "      <td>N</td>\n",
       "    </tr>\n",
       "    <tr>\n",
       "      <th>2</th>\n",
       "      <td>NaN</td>\n",
       "      <td>NaN</td>\n",
       "      <td>NaN</td>\n",
       "      <td>NaN</td>\n",
       "      <td>NaN</td>\n",
       "      <td>NaN</td>\n",
       "      <td>NaN</td>\n",
       "      <td>NaN</td>\n",
       "      <td>20220917</td>\n",
       "      <td>1520</td>\n",
       "      <td>...</td>\n",
       "      <td>0</td>\n",
       "      <td>초대권</td>\n",
       "      <td>2283</td>\n",
       "      <td>20220911.0</td>\n",
       "      <td>20220911.0</td>\n",
       "      <td>독주</td>\n",
       "      <td>IBK챔버홀</td>\n",
       "      <td>80</td>\n",
       "      <td>15</td>\n",
       "      <td>N</td>\n",
       "    </tr>\n",
       "    <tr>\n",
       "      <th>3</th>\n",
       "      <td>NaN</td>\n",
       "      <td>NaN</td>\n",
       "      <td>NaN</td>\n",
       "      <td>NaN</td>\n",
       "      <td>NaN</td>\n",
       "      <td>NaN</td>\n",
       "      <td>NaN</td>\n",
       "      <td>NaN</td>\n",
       "      <td>20190630</td>\n",
       "      <td>1132</td>\n",
       "      <td>...</td>\n",
       "      <td>0</td>\n",
       "      <td>초대권</td>\n",
       "      <td>2798</td>\n",
       "      <td>NaN</td>\n",
       "      <td>20190701.0</td>\n",
       "      <td>독주</td>\n",
       "      <td>리사이틀홀</td>\n",
       "      <td>90</td>\n",
       "      <td>15</td>\n",
       "      <td>N</td>\n",
       "    </tr>\n",
       "    <tr>\n",
       "      <th>4</th>\n",
       "      <td>50.0</td>\n",
       "      <td>M</td>\n",
       "      <td>무료</td>\n",
       "      <td>NaN</td>\n",
       "      <td>NaN</td>\n",
       "      <td>NaN</td>\n",
       "      <td>NaN</td>\n",
       "      <td>NaN</td>\n",
       "      <td>20220206</td>\n",
       "      <td>1615</td>\n",
       "      <td>...</td>\n",
       "      <td>0</td>\n",
       "      <td>일반</td>\n",
       "      <td>897</td>\n",
       "      <td>20220109.0</td>\n",
       "      <td>20220110.0</td>\n",
       "      <td>독주</td>\n",
       "      <td>콘서트홀</td>\n",
       "      <td>90</td>\n",
       "      <td>0</td>\n",
       "      <td>Y</td>\n",
       "    </tr>\n",
       "  </tbody>\n",
       "</table>\n",
       "<p>5 rows × 24 columns</p>\n",
       "</div>"
      ],
      "text/plain": [
       "    age gender membership_type_1 membership_type_2 membership_type_3  \\\n",
       "0  50.0      F                골드                무료                그린   \n",
       "1   NaN    NaN               NaN               NaN               NaN   \n",
       "2   NaN    NaN               NaN               NaN               NaN   \n",
       "3   NaN    NaN               NaN               NaN               NaN   \n",
       "4  50.0      M                무료               NaN               NaN   \n",
       "\n",
       "  membership_type_4 membership_type_5  membership_type_6  tran_date  \\\n",
       "0               NaN               NaN                NaN   20220114   \n",
       "1               NaN               NaN                NaN   20211003   \n",
       "2               NaN               NaN                NaN   20220917   \n",
       "3               NaN               NaN                NaN   20190630   \n",
       "4               NaN               NaN                NaN   20220206   \n",
       "\n",
       "   tran_time  ...  ticket_cancel  discount_type performance_code  \\\n",
       "0       1512  ...              2             일반              302   \n",
       "1       1550  ...              0            초대권             1120   \n",
       "2       1520  ...              0            초대권             2283   \n",
       "3       1132  ...              0            초대권             2798   \n",
       "4       1615  ...              0             일반              897   \n",
       "\n",
       "   pre_open_date   open_date genre   place  running_time  intermission  \\\n",
       "0     20220114.0  20220115.0   교향곡    콘서트홀           120            15   \n",
       "1            NaN  20210823.0    독주   리사이틀홀            90            15   \n",
       "2     20220911.0  20220911.0    독주  IBK챔버홀            80            15   \n",
       "3            NaN  20190701.0    독주   리사이틀홀            90            15   \n",
       "4     20220109.0  20220110.0    독주    콘서트홀            90             0   \n",
       "\n",
       "  member_yn  \n",
       "0         Y  \n",
       "1         N  \n",
       "2         N  \n",
       "3         N  \n",
       "4         Y  \n",
       "\n",
       "[5 rows x 24 columns]"
      ]
     },
     "execution_count": 1,
     "metadata": {},
     "output_type": "execute_result"
    }
   ],
   "source": [
    "import pandas as pd\n",
    "df = pd.read_csv('big_contest.csv')\n",
    "df.head()"
   ]
  },
  {
   "cell_type": "code",
   "execution_count": 5,
   "id": "8334b44d-0fa1-4b62-92a9-5f1d28e78c58",
   "metadata": {},
   "outputs": [
    {
     "data": {
      "text/plain": [
       "(1920868, 24)"
      ]
     },
     "execution_count": 5,
     "metadata": {},
     "output_type": "execute_result"
    }
   ],
   "source": [
    "df.shape"
   ]
  },
  {
   "cell_type": "code",
   "execution_count": 6,
   "id": "a8e570be-77c9-4910-b011-ad54fce1ca5f",
   "metadata": {},
   "outputs": [
    {
     "name": "stdout",
     "output_type": "stream",
     "text": [
      "<class 'pandas.core.frame.DataFrame'>\n",
      "RangeIndex: 1920868 entries, 0 to 1920867\n",
      "Data columns (total 24 columns):\n",
      " #   Column             Dtype  \n",
      "---  ------             -----  \n",
      " 0   age                float64\n",
      " 1   gender             object \n",
      " 2   membership_type_1  object \n",
      " 3   membership_type_2  object \n",
      " 4   membership_type_3  object \n",
      " 5   membership_type_4  object \n",
      " 6   membership_type_5  object \n",
      " 7   membership_type_6  float64\n",
      " 8   tran_date          int64  \n",
      " 9   tran_time          int64  \n",
      " 10  play_date          int64  \n",
      " 11  play_st_time       int64  \n",
      " 12  seat               object \n",
      " 13  price              int64  \n",
      " 14  ticket_cancel      int64  \n",
      " 15  discount_type      object \n",
      " 16  performance_code   int64  \n",
      " 17  pre_open_date      float64\n",
      " 18  open_date          float64\n",
      " 19  genre              object \n",
      " 20  place              object \n",
      " 21  running_time       int64  \n",
      " 22  intermission       int64  \n",
      " 23  member_yn          object \n",
      "dtypes: float64(4), int64(9), object(11)\n",
      "memory usage: 351.7+ MB\n"
     ]
    }
   ],
   "source": [
    "df.info()"
   ]
  },
  {
   "cell_type": "code",
   "execution_count": 7,
   "id": "b1d9ff35-612e-4640-bd66-63afde6c57b7",
   "metadata": {},
   "outputs": [
    {
     "data": {
      "text/plain": [
       "age                  1300183\n",
       "gender               1299714\n",
       "membership_type_1    1299714\n",
       "membership_type_2    1433215\n",
       "membership_type_3    1749009\n",
       "membership_type_4    1890675\n",
       "membership_type_5    1919586\n",
       "membership_type_6    1920868\n",
       "tran_date                  0\n",
       "tran_time                  0\n",
       "play_date                  0\n",
       "play_st_time               0\n",
       "seat                       0\n",
       "price                      0\n",
       "ticket_cancel              0\n",
       "discount_type              0\n",
       "performance_code           0\n",
       "pre_open_date         864385\n",
       "open_date                340\n",
       "genre                  25842\n",
       "place                      0\n",
       "running_time               0\n",
       "intermission               0\n",
       "member_yn                  0\n",
       "dtype: int64"
      ]
     },
     "execution_count": 7,
     "metadata": {},
     "output_type": "execute_result"
    }
   ],
   "source": [
    "df.isnull().sum()"
   ]
  },
  {
   "cell_type": "code",
   "execution_count": 8,
   "id": "3ebbffa1-a53d-471e-a9a5-df5a573426fc",
   "metadata": {},
   "outputs": [
    {
     "data": {
      "text/plain": [
       "array(['콘서트홀', '리사이틀홀', 'IBK챔버홀'], dtype=object)"
      ]
     },
     "execution_count": 8,
     "metadata": {},
     "output_type": "execute_result"
    }
   ],
   "source": [
    "df['place'].unique()"
   ]
  },
  {
   "cell_type": "code",
   "execution_count": 9,
   "id": "f29247ee-3eca-4e80-b63b-26d42825d845",
   "metadata": {},
   "outputs": [],
   "source": [
    "df_A = df.loc[df['place'] == '콘서트홀']\n",
    "df_B = df.loc[df['place'] == 'IBK챔버홀']\n",
    "df_C = df.loc[df['place'] == '리사이틀홀']"
   ]
  },
  {
   "cell_type": "code",
   "execution_count": 10,
   "id": "8a9b79e9-8f4a-4c69-a7a2-48ed024db384",
   "metadata": {},
   "outputs": [
    {
     "data": {
      "text/plain": [
       "29973.89987675119"
      ]
     },
     "execution_count": 10,
     "metadata": {},
     "output_type": "execute_result"
    }
   ],
   "source": [
    "df_A.price.mean()"
   ]
  },
  {
   "cell_type": "code",
   "execution_count": 11,
   "id": "d02dfbdf-37ff-4bc8-8299-8a57720ec3b9",
   "metadata": {},
   "outputs": [
    {
     "data": {
      "text/plain": [
       "8130.384784566724"
      ]
     },
     "execution_count": 11,
     "metadata": {},
     "output_type": "execute_result"
    }
   ],
   "source": [
    "df_B.price.mean()"
   ]
  },
  {
   "cell_type": "code",
   "execution_count": 16,
   "id": "4789a7d6-0e96-491c-a579-f5f4e9dabc34",
   "metadata": {},
   "outputs": [
    {
     "data": {
      "text/plain": [
       "1              0\n",
       "3              0\n",
       "14             0\n",
       "22             0\n",
       "23             0\n",
       "           ...  \n",
       "1920833        0\n",
       "1920837        0\n",
       "1920857        0\n",
       "1920862        0\n",
       "1920865    24000\n",
       "Name: price, Length: 346490, dtype: int64"
      ]
     },
     "execution_count": 16,
     "metadata": {},
     "output_type": "execute_result"
    }
   ],
   "source": [
    "df_C.price"
   ]
  },
  {
   "cell_type": "code",
   "execution_count": 18,
   "id": "dee4bef8-16fe-41dc-a4fa-ce57a998a98a",
   "metadata": {},
   "outputs": [
    {
     "data": {
      "text/plain": [
       "1247372"
      ]
     },
     "execution_count": 18,
     "metadata": {},
     "output_type": "execute_result"
    }
   ],
   "source": [
    "len(df.loc[df.price==0])"
   ]
  },
  {
   "cell_type": "code",
   "execution_count": 21,
   "id": "93b68f85-08c8-4bce-a944-623c47a5fc1b",
   "metadata": {},
   "outputs": [
    {
     "data": {
      "text/plain": [
       "0           10000\n",
       "4          180000\n",
       "5          144000\n",
       "8           56000\n",
       "9           75000\n",
       "            ...  \n",
       "1920853     90000\n",
       "1920855     10000\n",
       "1920860     15000\n",
       "1920864     21000\n",
       "1920865     24000\n",
       "Name: price, Length: 673496, dtype: int64"
      ]
     },
     "execution_count": 21,
     "metadata": {},
     "output_type": "execute_result"
    }
   ],
   "source": [
    "df.loc[df.price!=0].price"
   ]
  },
  {
   "cell_type": "code",
   "execution_count": 29,
   "id": "2a931983-1c25-4bd9-92b8-cc3a04414177",
   "metadata": {},
   "outputs": [
    {
     "data": {
      "text/plain": [
       "1247372"
      ]
     },
     "execution_count": 29,
     "metadata": {},
     "output_type": "execute_result"
    }
   ],
   "source": [
    "len(df.loc[df['price']==0])"
   ]
  },
  {
   "cell_type": "code",
   "execution_count": 6,
   "id": "8d6bccfa-8f31-4a75-9f32-82ae081074cb",
   "metadata": {},
   "outputs": [
    {
     "data": {
      "text/plain": [
       "discount_type\n",
       "초대권               899275\n",
       "기획사판매             235583\n",
       "기획사                55352\n",
       "공연진행석              25332\n",
       "한화초대석               6767\n",
       "홍보진행                6757\n",
       "정기회원                5367\n",
       "우리카드 우수회원           3005\n",
       "신세계석                2560\n",
       "한화생명                2223\n",
       "KT석                 1869\n",
       "문화햇살                1740\n",
       "기획사할인                251\n",
       "기업석                  203\n",
       "중앙일보 JTBC            202\n",
       "BC카드                 158\n",
       "후원회석                 138\n",
       "중앙일보 JTBC 초대권        100\n",
       "기획사 20%               92\n",
       "신한은행                  50\n",
       "기획사 판매20%             44\n",
       "국립심포니                 40\n",
       "기획사판매20%              39\n",
       "연주자할인30%              37\n",
       "기획사 판매30%             31\n",
       "기획사할인40%              23\n",
       "기획사 할인50%             22\n",
       "홍보마케팅                 22\n",
       "클립서비스(기업)20%할인        18\n",
       "차액                    17\n",
       "초대석                   12\n",
       "홍보진행석                 10\n",
       "Art+초대                10\n",
       "일반판매석                  6\n",
       "［초대권］                  6\n",
       "기획사(특별할인)              6\n",
       "Name: count, dtype: int64"
      ]
     },
     "execution_count": 6,
     "metadata": {},
     "output_type": "execute_result"
    }
   ],
   "source": [
    "df.loc[(df['price']==0) & (df.membership_type_1.isnull()) & (df.membership_type_2.isnull()) & (df.membership_type_3.isnull()) & (df.membership_type_4.isnull()) & (df.membership_type_5.isnull()) & (df.membership_type_6.isnull())].discount_type.value_counts()"
   ]
  },
  {
   "cell_type": "code",
   "execution_count": 30,
   "id": "3a72bf74-cb46-43dd-b772-394a38d20b20",
   "metadata": {},
   "outputs": [
    {
     "data": {
      "text/plain": [
       "1172187"
      ]
     },
     "execution_count": 30,
     "metadata": {},
     "output_type": "execute_result"
    }
   ],
   "source": [
    "len(df.loc[(df['price']==0) & (df['ticket_cancel']==0) & (df.membership_type_1.isnull()) & (df.membership_type_2.isnull()) & (df.membership_type_3.isnull()) & (df.membership_type_4.isnull()) & (df.membership_type_5.isnull()) & (df.membership_type_6.isnull())])"
   ]
  },
  {
   "cell_type": "code",
   "execution_count": 18,
   "id": "fc8110ce-8435-47ea-b7d1-098509176104",
   "metadata": {},
   "outputs": [
    {
     "data": {
      "text/plain": [
       "1961"
      ]
     },
     "execution_count": 18,
     "metadata": {},
     "output_type": "execute_result"
    }
   ],
   "source": [
    "df.discount_type.str.contains('실버').sum()"
   ]
  },
  {
   "cell_type": "code",
   "execution_count": 21,
   "id": "62842399-dd81-43b1-b9a2-937b4975ff56",
   "metadata": {},
   "outputs": [
    {
     "data": {
      "text/plain": [
       "discount_type\n",
       "실버할인(만65세이상/본인만)50%      636\n",
       "실버할인(65세이상/본인만)50%       511\n",
       "실버할인(만65세이상/본인만)40%      250\n",
       "실버관객(65세이상/본인만)50%       115\n",
       "실버할인(만65세이상/본인)40%       104\n",
       "실버할인(만65세 이상/본인만)50%      62\n",
       "실버할인(65세 이상/본인만)50%       59\n",
       "실버할인(만 65세 이상/본인만)50%     57\n",
       "실버할인(만 65세이상/본인만)40%      42\n",
       "실버회원(만65세 이상/1인1매)50%     28\n",
       "실버할인(65세이상)30%            24\n",
       "실버할인(70세 이상/본인)50%        21\n",
       "실버(65세 이상/본인만)50%         18\n",
       "실버할인(본인만/만65세이상)40%       11\n",
       "실버할인(70세이상/본인만)50%        11\n",
       "실버관객(본인만)50%               6\n",
       "실버할인(본인/70세이상)50%          6\n",
       "Name: count, dtype: int64"
      ]
     },
     "execution_count": 21,
     "metadata": {},
     "output_type": "execute_result"
    }
   ],
   "source": [
    "df.loc[df.discount_type.str.contains('실버')].discount_type.value_counts()"
   ]
  },
  {
   "cell_type": "code",
   "execution_count": 9,
   "id": "9600cd23-58a0-468d-b772-ab3ba8bf6ff5",
   "metadata": {},
   "outputs": [
    {
     "data": {
      "text/plain": [
       "genre\n",
       "교향곡      547382\n",
       "독주       434579\n",
       "실내악      339716\n",
       "클래식      305782\n",
       "합창       117683\n",
       "성악        80210\n",
       "콘서트       27112\n",
       "오페라       22613\n",
       "복합장르       9416\n",
       "기타         6452\n",
       "크로스오버      2211\n",
       "재즈         1325\n",
       "전시          266\n",
       "무용          155\n",
       "가족극         124\n",
       "Name: count, dtype: int64"
      ]
     },
     "execution_count": 9,
     "metadata": {},
     "output_type": "execute_result"
    }
   ],
   "source": [
    "df.genre.value_counts()"
   ]
  },
  {
   "cell_type": "code",
   "execution_count": 2,
   "id": "2a736a8c-03d2-40cc-b33e-7812d1263833",
   "metadata": {},
   "outputs": [],
   "source": [
    "consert = df.loc[df['place']=='콘서트홀']"
   ]
  },
  {
   "cell_type": "code",
   "execution_count": 3,
   "id": "ad22bac2-0c24-434c-ad90-6c8a7e00f998",
   "metadata": {},
   "outputs": [
    {
     "data": {
      "text/html": [
       "<div>\n",
       "<style scoped>\n",
       "    .dataframe tbody tr th:only-of-type {\n",
       "        vertical-align: middle;\n",
       "    }\n",
       "\n",
       "    .dataframe tbody tr th {\n",
       "        vertical-align: top;\n",
       "    }\n",
       "\n",
       "    .dataframe thead th {\n",
       "        text-align: right;\n",
       "    }\n",
       "</style>\n",
       "<table border=\"1\" class=\"dataframe\">\n",
       "  <thead>\n",
       "    <tr style=\"text-align: right;\">\n",
       "      <th></th>\n",
       "      <th>age</th>\n",
       "      <th>gender</th>\n",
       "      <th>membership_type_1</th>\n",
       "      <th>membership_type_2</th>\n",
       "      <th>membership_type_3</th>\n",
       "      <th>membership_type_4</th>\n",
       "      <th>membership_type_5</th>\n",
       "      <th>membership_type_6</th>\n",
       "      <th>tran_date</th>\n",
       "      <th>tran_time</th>\n",
       "      <th>...</th>\n",
       "      <th>ticket_cancel</th>\n",
       "      <th>discount_type</th>\n",
       "      <th>performance_code</th>\n",
       "      <th>pre_open_date</th>\n",
       "      <th>open_date</th>\n",
       "      <th>genre</th>\n",
       "      <th>place</th>\n",
       "      <th>running_time</th>\n",
       "      <th>intermission</th>\n",
       "      <th>member_yn</th>\n",
       "    </tr>\n",
       "  </thead>\n",
       "  <tbody>\n",
       "    <tr>\n",
       "      <th>0</th>\n",
       "      <td>50.0</td>\n",
       "      <td>F</td>\n",
       "      <td>골드</td>\n",
       "      <td>무료</td>\n",
       "      <td>그린</td>\n",
       "      <td>NaN</td>\n",
       "      <td>NaN</td>\n",
       "      <td>NaN</td>\n",
       "      <td>20220114</td>\n",
       "      <td>1512</td>\n",
       "      <td>...</td>\n",
       "      <td>2</td>\n",
       "      <td>일반</td>\n",
       "      <td>302</td>\n",
       "      <td>20220114.0</td>\n",
       "      <td>20220115.0</td>\n",
       "      <td>교향곡</td>\n",
       "      <td>콘서트홀</td>\n",
       "      <td>120</td>\n",
       "      <td>15</td>\n",
       "      <td>Y</td>\n",
       "    </tr>\n",
       "    <tr>\n",
       "      <th>4</th>\n",
       "      <td>50.0</td>\n",
       "      <td>M</td>\n",
       "      <td>무료</td>\n",
       "      <td>NaN</td>\n",
       "      <td>NaN</td>\n",
       "      <td>NaN</td>\n",
       "      <td>NaN</td>\n",
       "      <td>NaN</td>\n",
       "      <td>20220206</td>\n",
       "      <td>1615</td>\n",
       "      <td>...</td>\n",
       "      <td>0</td>\n",
       "      <td>일반</td>\n",
       "      <td>897</td>\n",
       "      <td>20220109.0</td>\n",
       "      <td>20220110.0</td>\n",
       "      <td>독주</td>\n",
       "      <td>콘서트홀</td>\n",
       "      <td>90</td>\n",
       "      <td>0</td>\n",
       "      <td>Y</td>\n",
       "    </tr>\n",
       "    <tr>\n",
       "      <th>5</th>\n",
       "      <td>30.0</td>\n",
       "      <td>F</td>\n",
       "      <td>블루</td>\n",
       "      <td>무료</td>\n",
       "      <td>NaN</td>\n",
       "      <td>NaN</td>\n",
       "      <td>NaN</td>\n",
       "      <td>NaN</td>\n",
       "      <td>20181124</td>\n",
       "      <td>1145</td>\n",
       "      <td>...</td>\n",
       "      <td>2</td>\n",
       "      <td>블루회원 할인20%</td>\n",
       "      <td>528</td>\n",
       "      <td>20181119.0</td>\n",
       "      <td>20181119.0</td>\n",
       "      <td>교향곡</td>\n",
       "      <td>콘서트홀</td>\n",
       "      <td>100</td>\n",
       "      <td>15</td>\n",
       "      <td>Y</td>\n",
       "    </tr>\n",
       "    <tr>\n",
       "      <th>6</th>\n",
       "      <td>NaN</td>\n",
       "      <td>NaN</td>\n",
       "      <td>NaN</td>\n",
       "      <td>NaN</td>\n",
       "      <td>NaN</td>\n",
       "      <td>NaN</td>\n",
       "      <td>NaN</td>\n",
       "      <td>NaN</td>\n",
       "      <td>20191020</td>\n",
       "      <td>1459</td>\n",
       "      <td>...</td>\n",
       "      <td>0</td>\n",
       "      <td>초대권</td>\n",
       "      <td>44</td>\n",
       "      <td>NaN</td>\n",
       "      <td>20191023.0</td>\n",
       "      <td>교향곡</td>\n",
       "      <td>콘서트홀</td>\n",
       "      <td>100</td>\n",
       "      <td>15</td>\n",
       "      <td>N</td>\n",
       "    </tr>\n",
       "    <tr>\n",
       "      <th>7</th>\n",
       "      <td>NaN</td>\n",
       "      <td>NaN</td>\n",
       "      <td>NaN</td>\n",
       "      <td>NaN</td>\n",
       "      <td>NaN</td>\n",
       "      <td>NaN</td>\n",
       "      <td>NaN</td>\n",
       "      <td>NaN</td>\n",
       "      <td>20190613</td>\n",
       "      <td>954</td>\n",
       "      <td>...</td>\n",
       "      <td>0</td>\n",
       "      <td>초대권</td>\n",
       "      <td>827</td>\n",
       "      <td>20190602.0</td>\n",
       "      <td>20190602.0</td>\n",
       "      <td>교향곡</td>\n",
       "      <td>콘서트홀</td>\n",
       "      <td>120</td>\n",
       "      <td>20</td>\n",
       "      <td>N</td>\n",
       "    </tr>\n",
       "    <tr>\n",
       "      <th>...</th>\n",
       "      <td>...</td>\n",
       "      <td>...</td>\n",
       "      <td>...</td>\n",
       "      <td>...</td>\n",
       "      <td>...</td>\n",
       "      <td>...</td>\n",
       "      <td>...</td>\n",
       "      <td>...</td>\n",
       "      <td>...</td>\n",
       "      <td>...</td>\n",
       "      <td>...</td>\n",
       "      <td>...</td>\n",
       "      <td>...</td>\n",
       "      <td>...</td>\n",
       "      <td>...</td>\n",
       "      <td>...</td>\n",
       "      <td>...</td>\n",
       "      <td>...</td>\n",
       "      <td>...</td>\n",
       "      <td>...</td>\n",
       "      <td>...</td>\n",
       "    </tr>\n",
       "    <tr>\n",
       "      <th>1920853</th>\n",
       "      <td>60.0</td>\n",
       "      <td>F</td>\n",
       "      <td>무료</td>\n",
       "      <td>그린</td>\n",
       "      <td>NaN</td>\n",
       "      <td>NaN</td>\n",
       "      <td>NaN</td>\n",
       "      <td>NaN</td>\n",
       "      <td>20210618</td>\n",
       "      <td>1509</td>\n",
       "      <td>...</td>\n",
       "      <td>2</td>\n",
       "      <td>일반</td>\n",
       "      <td>887</td>\n",
       "      <td>20210618.0</td>\n",
       "      <td>20210620.0</td>\n",
       "      <td>교향곡</td>\n",
       "      <td>콘서트홀</td>\n",
       "      <td>110</td>\n",
       "      <td>20</td>\n",
       "      <td>Y</td>\n",
       "    </tr>\n",
       "    <tr>\n",
       "      <th>1920855</th>\n",
       "      <td>50.0</td>\n",
       "      <td>M</td>\n",
       "      <td>무료</td>\n",
       "      <td>NaN</td>\n",
       "      <td>NaN</td>\n",
       "      <td>NaN</td>\n",
       "      <td>NaN</td>\n",
       "      <td>NaN</td>\n",
       "      <td>20230522</td>\n",
       "      <td>1729</td>\n",
       "      <td>...</td>\n",
       "      <td>0</td>\n",
       "      <td>일반</td>\n",
       "      <td>2825</td>\n",
       "      <td>20230505.0</td>\n",
       "      <td>20230507.0</td>\n",
       "      <td>교향곡</td>\n",
       "      <td>콘서트홀</td>\n",
       "      <td>120</td>\n",
       "      <td>15</td>\n",
       "      <td>Y</td>\n",
       "    </tr>\n",
       "    <tr>\n",
       "      <th>1920856</th>\n",
       "      <td>NaN</td>\n",
       "      <td>NaN</td>\n",
       "      <td>NaN</td>\n",
       "      <td>NaN</td>\n",
       "      <td>NaN</td>\n",
       "      <td>NaN</td>\n",
       "      <td>NaN</td>\n",
       "      <td>NaN</td>\n",
       "      <td>20201009</td>\n",
       "      <td>1652</td>\n",
       "      <td>...</td>\n",
       "      <td>0</td>\n",
       "      <td>초대권</td>\n",
       "      <td>77</td>\n",
       "      <td>NaN</td>\n",
       "      <td>20200920.0</td>\n",
       "      <td>클래식</td>\n",
       "      <td>콘서트홀</td>\n",
       "      <td>120</td>\n",
       "      <td>15</td>\n",
       "      <td>N</td>\n",
       "    </tr>\n",
       "    <tr>\n",
       "      <th>1920858</th>\n",
       "      <td>NaN</td>\n",
       "      <td>NaN</td>\n",
       "      <td>NaN</td>\n",
       "      <td>NaN</td>\n",
       "      <td>NaN</td>\n",
       "      <td>NaN</td>\n",
       "      <td>NaN</td>\n",
       "      <td>NaN</td>\n",
       "      <td>20200726</td>\n",
       "      <td>1655</td>\n",
       "      <td>...</td>\n",
       "      <td>0</td>\n",
       "      <td>기획사판매</td>\n",
       "      <td>850</td>\n",
       "      <td>20200719.0</td>\n",
       "      <td>20200720.0</td>\n",
       "      <td>합창</td>\n",
       "      <td>콘서트홀</td>\n",
       "      <td>110</td>\n",
       "      <td>15</td>\n",
       "      <td>N</td>\n",
       "    </tr>\n",
       "    <tr>\n",
       "      <th>1920864</th>\n",
       "      <td>20.0</td>\n",
       "      <td>F</td>\n",
       "      <td>무료</td>\n",
       "      <td>싹틔우미</td>\n",
       "      <td>NaN</td>\n",
       "      <td>NaN</td>\n",
       "      <td>NaN</td>\n",
       "      <td>NaN</td>\n",
       "      <td>20221224</td>\n",
       "      <td>1223</td>\n",
       "      <td>...</td>\n",
       "      <td>0</td>\n",
       "      <td>청소년(만7세~만24세/본인만)30%</td>\n",
       "      <td>313</td>\n",
       "      <td>NaN</td>\n",
       "      <td>20221223.0</td>\n",
       "      <td>교향곡</td>\n",
       "      <td>콘서트홀</td>\n",
       "      <td>120</td>\n",
       "      <td>0</td>\n",
       "      <td>Y</td>\n",
       "    </tr>\n",
       "  </tbody>\n",
       "</table>\n",
       "<p>1096968 rows × 24 columns</p>\n",
       "</div>"
      ],
      "text/plain": [
       "          age gender membership_type_1 membership_type_2 membership_type_3  \\\n",
       "0        50.0      F                골드                무료                그린   \n",
       "4        50.0      M                무료               NaN               NaN   \n",
       "5        30.0      F                블루                무료               NaN   \n",
       "6         NaN    NaN               NaN               NaN               NaN   \n",
       "7         NaN    NaN               NaN               NaN               NaN   \n",
       "...       ...    ...               ...               ...               ...   \n",
       "1920853  60.0      F                무료                그린               NaN   \n",
       "1920855  50.0      M                무료               NaN               NaN   \n",
       "1920856   NaN    NaN               NaN               NaN               NaN   \n",
       "1920858   NaN    NaN               NaN               NaN               NaN   \n",
       "1920864  20.0      F                무료              싹틔우미               NaN   \n",
       "\n",
       "        membership_type_4 membership_type_5  membership_type_6  tran_date  \\\n",
       "0                     NaN               NaN                NaN   20220114   \n",
       "4                     NaN               NaN                NaN   20220206   \n",
       "5                     NaN               NaN                NaN   20181124   \n",
       "6                     NaN               NaN                NaN   20191020   \n",
       "7                     NaN               NaN                NaN   20190613   \n",
       "...                   ...               ...                ...        ...   \n",
       "1920853               NaN               NaN                NaN   20210618   \n",
       "1920855               NaN               NaN                NaN   20230522   \n",
       "1920856               NaN               NaN                NaN   20201009   \n",
       "1920858               NaN               NaN                NaN   20200726   \n",
       "1920864               NaN               NaN                NaN   20221224   \n",
       "\n",
       "         tran_time  ...  ticket_cancel         discount_type performance_code  \\\n",
       "0             1512  ...              2                    일반              302   \n",
       "4             1615  ...              0                    일반              897   \n",
       "5             1145  ...              2            블루회원 할인20%              528   \n",
       "6             1459  ...              0                   초대권               44   \n",
       "7              954  ...              0                   초대권              827   \n",
       "...            ...  ...            ...                   ...              ...   \n",
       "1920853       1509  ...              2                    일반              887   \n",
       "1920855       1729  ...              0                    일반             2825   \n",
       "1920856       1652  ...              0                   초대권               77   \n",
       "1920858       1655  ...              0                 기획사판매              850   \n",
       "1920864       1223  ...              0  청소년(만7세~만24세/본인만)30%              313   \n",
       "\n",
       "         pre_open_date   open_date genre  place  running_time  intermission  \\\n",
       "0           20220114.0  20220115.0   교향곡   콘서트홀           120            15   \n",
       "4           20220109.0  20220110.0    독주   콘서트홀            90             0   \n",
       "5           20181119.0  20181119.0   교향곡   콘서트홀           100            15   \n",
       "6                  NaN  20191023.0   교향곡   콘서트홀           100            15   \n",
       "7           20190602.0  20190602.0   교향곡   콘서트홀           120            20   \n",
       "...                ...         ...   ...    ...           ...           ...   \n",
       "1920853     20210618.0  20210620.0   교향곡   콘서트홀           110            20   \n",
       "1920855     20230505.0  20230507.0   교향곡   콘서트홀           120            15   \n",
       "1920856            NaN  20200920.0   클래식   콘서트홀           120            15   \n",
       "1920858     20200719.0  20200720.0    합창   콘서트홀           110            15   \n",
       "1920864            NaN  20221223.0   교향곡   콘서트홀           120             0   \n",
       "\n",
       "        member_yn  \n",
       "0               Y  \n",
       "4               Y  \n",
       "5               Y  \n",
       "6               N  \n",
       "7               N  \n",
       "...           ...  \n",
       "1920853         Y  \n",
       "1920855         Y  \n",
       "1920856         N  \n",
       "1920858         N  \n",
       "1920864         Y  \n",
       "\n",
       "[1096968 rows x 24 columns]"
      ]
     },
     "execution_count": 3,
     "metadata": {},
     "output_type": "execute_result"
    }
   ],
   "source": [
    "consert"
   ]
  },
  {
   "cell_type": "code",
   "execution_count": 4,
   "id": "2c3f52bf-bd9d-456d-a9e5-1fa6bceba5fb",
   "metadata": {},
   "outputs": [
    {
     "data": {
      "text/plain": [
       "age                   612451\n",
       "gender                612101\n",
       "membership_type_1     612101\n",
       "membership_type_2     707231\n",
       "membership_type_3     956500\n",
       "membership_type_4    1071808\n",
       "membership_type_5    1095858\n",
       "membership_type_6    1096968\n",
       "tran_date                  0\n",
       "tran_time                  0\n",
       "play_date                  0\n",
       "play_st_time               0\n",
       "seat                       0\n",
       "price                      0\n",
       "ticket_cancel              0\n",
       "discount_type              0\n",
       "performance_code           0\n",
       "pre_open_date         395645\n",
       "open_date                  0\n",
       "genre                  25073\n",
       "place                      0\n",
       "running_time               0\n",
       "intermission               0\n",
       "member_yn                  0\n",
       "dtype: int64"
      ]
     },
     "execution_count": 4,
     "metadata": {},
     "output_type": "execute_result"
    }
   ],
   "source": [
    "consert.isnull().sum()"
   ]
  },
  {
   "cell_type": "code",
   "execution_count": 5,
   "id": "7d2093d9-09fc-47e6-8f91-f371d724ac23",
   "metadata": {},
   "outputs": [
    {
     "data": {
      "text/plain": [
       "29973.89987675119"
      ]
     },
     "execution_count": 5,
     "metadata": {},
     "output_type": "execute_result"
    }
   ],
   "source": [
    "consert.price.mean()"
   ]
  },
  {
   "cell_type": "code",
   "execution_count": 6,
   "id": "308df889-b5ad-4a5d-8098-4920f9782b44",
   "metadata": {},
   "outputs": [
    {
     "data": {
      "text/plain": [
       "array(['골드', '무료', '블루', nan], dtype=object)"
      ]
     },
     "execution_count": 6,
     "metadata": {},
     "output_type": "execute_result"
    }
   ],
   "source": [
    "consert.membership_type_1.unique()"
   ]
  },
  {
   "cell_type": "code",
   "execution_count": 7,
   "id": "a733fb08-8f24-41bc-8f4c-88c31d28252a",
   "metadata": {},
   "outputs": [
    {
     "data": {
      "text/plain": [
       "array(['무료', nan, '그린', '싹틔우미', '골드', '노블'], dtype=object)"
      ]
     },
     "execution_count": 7,
     "metadata": {},
     "output_type": "execute_result"
    }
   ],
   "source": [
    "consert.membership_type_2.unique()"
   ]
  },
  {
   "cell_type": "code",
   "execution_count": 8,
   "id": "4e119c22-a360-46eb-9e4c-8efbc2e0faa4",
   "metadata": {},
   "outputs": [
    {
     "data": {
      "text/plain": [
       "array(['그린', nan, '무료', '싹틔우미', '노블'], dtype=object)"
      ]
     },
     "execution_count": 8,
     "metadata": {},
     "output_type": "execute_result"
    }
   ],
   "source": [
    "consert.membership_type_3.unique()"
   ]
  },
  {
   "cell_type": "code",
   "execution_count": 9,
   "id": "d6942ca3-98a1-4b1b-90a0-3017c64317dd",
   "metadata": {},
   "outputs": [
    {
     "data": {
      "text/plain": [
       "array([nan, '그린', '싹틔우미', '노블'], dtype=object)"
      ]
     },
     "execution_count": 9,
     "metadata": {},
     "output_type": "execute_result"
    }
   ],
   "source": [
    "consert.membership_type_4.unique()"
   ]
  },
  {
   "cell_type": "code",
   "execution_count": 10,
   "id": "8f02d6af-62ac-45eb-9106-1d194b959968",
   "metadata": {},
   "outputs": [
    {
     "data": {
      "text/plain": [
       "array([nan, '그린'], dtype=object)"
      ]
     },
     "execution_count": 10,
     "metadata": {},
     "output_type": "execute_result"
    }
   ],
   "source": [
    "consert.membership_type_5.unique()"
   ]
  },
  {
   "cell_type": "code",
   "execution_count": 11,
   "id": "793c0541-cde6-4716-9518-3c93282c35f0",
   "metadata": {},
   "outputs": [
    {
     "data": {
      "text/plain": [
       "array([nan])"
      ]
     },
     "execution_count": 11,
     "metadata": {},
     "output_type": "execute_result"
    }
   ],
   "source": [
    "consert.membership_type_6.unique()"
   ]
  },
  {
   "cell_type": "code",
   "execution_count": 16,
   "id": "33a1e89a-a620-4c1d-b720-8af162d58276",
   "metadata": {},
   "outputs": [
    {
     "data": {
      "text/plain": [
       "0            3층 BOX9 10\n",
       "4           1층 B블록12열 7\n",
       "5            1층 A블록2열 1\n",
       "6            3층 E블록4열 8\n",
       "7            2층 D블록8열 4\n",
       "               ...     \n",
       "1920853      1층 A블록2열 2\n",
       "1920855      3층 A블록6열 4\n",
       "1920856    1층 D블록16열 12\n",
       "1920858     1층 D블록20열 8\n",
       "1920864      3층 B블록5열 4\n",
       "Name: seat, Length: 1096968, dtype: object"
      ]
     },
     "execution_count": 16,
     "metadata": {},
     "output_type": "execute_result"
    }
   ],
   "source": [
    "consert.seat"
   ]
  },
  {
   "cell_type": "code",
   "execution_count": 19,
   "id": "fc21bf49-6b58-4966-b7cf-df0f781e6d9f",
   "metadata": {},
   "outputs": [],
   "source": [
    "df = pd.DataFrame(consert.seat)"
   ]
  },
  {
   "cell_type": "code",
   "execution_count": 24,
   "id": "0f124ecc-467d-4d3b-a2d8-95d40b815a0d",
   "metadata": {},
   "outputs": [
    {
     "ename": "AttributeError",
     "evalue": "'Series' object has no attribute 'len'",
     "output_type": "error",
     "traceback": [
      "\u001b[1;31m---------------------------------------------------------------------------\u001b[0m",
      "\u001b[1;31mAttributeError\u001b[0m                            Traceback (most recent call last)",
      "Cell \u001b[1;32mIn[24], line 1\u001b[0m\n\u001b[1;32m----> 1\u001b[0m df[\u001b[38;5;124m'\u001b[39m\u001b[38;5;124mseat_len\u001b[39m\u001b[38;5;124m'\u001b[39m] \u001b[38;5;241m=\u001b[39m \u001b[43mdf\u001b[49m\u001b[43m[\u001b[49m\u001b[38;5;124;43m'\u001b[39;49m\u001b[38;5;124;43mseat\u001b[39;49m\u001b[38;5;124;43m'\u001b[39;49m\u001b[43m]\u001b[49m\u001b[38;5;241;43m.\u001b[39;49m\u001b[43mlen\u001b[49m\n",
      "File \u001b[1;32m~\\AppData\\Local\\Programs\\Python\\Python311\\Lib\\site-packages\\pandas\\core\\generic.py:5989\u001b[0m, in \u001b[0;36mNDFrame.__getattr__\u001b[1;34m(self, name)\u001b[0m\n\u001b[0;32m   5982\u001b[0m \u001b[38;5;28;01mif\u001b[39;00m (\n\u001b[0;32m   5983\u001b[0m     name \u001b[38;5;129;01mnot\u001b[39;00m \u001b[38;5;129;01min\u001b[39;00m \u001b[38;5;28mself\u001b[39m\u001b[38;5;241m.\u001b[39m_internal_names_set\n\u001b[0;32m   5984\u001b[0m     \u001b[38;5;129;01mand\u001b[39;00m name \u001b[38;5;129;01mnot\u001b[39;00m \u001b[38;5;129;01min\u001b[39;00m \u001b[38;5;28mself\u001b[39m\u001b[38;5;241m.\u001b[39m_metadata\n\u001b[0;32m   5985\u001b[0m     \u001b[38;5;129;01mand\u001b[39;00m name \u001b[38;5;129;01mnot\u001b[39;00m \u001b[38;5;129;01min\u001b[39;00m \u001b[38;5;28mself\u001b[39m\u001b[38;5;241m.\u001b[39m_accessors\n\u001b[0;32m   5986\u001b[0m     \u001b[38;5;129;01mand\u001b[39;00m \u001b[38;5;28mself\u001b[39m\u001b[38;5;241m.\u001b[39m_info_axis\u001b[38;5;241m.\u001b[39m_can_hold_identifiers_and_holds_name(name)\n\u001b[0;32m   5987\u001b[0m ):\n\u001b[0;32m   5988\u001b[0m     \u001b[38;5;28;01mreturn\u001b[39;00m \u001b[38;5;28mself\u001b[39m[name]\n\u001b[1;32m-> 5989\u001b[0m \u001b[38;5;28;01mreturn\u001b[39;00m \u001b[38;5;28;43mobject\u001b[39;49m\u001b[38;5;241;43m.\u001b[39;49m\u001b[38;5;21;43m__getattribute__\u001b[39;49m\u001b[43m(\u001b[49m\u001b[38;5;28;43mself\u001b[39;49m\u001b[43m,\u001b[49m\u001b[43m \u001b[49m\u001b[43mname\u001b[49m\u001b[43m)\u001b[49m\n",
      "\u001b[1;31mAttributeError\u001b[0m: 'Series' object has no attribute 'len'"
     ]
    }
   ],
   "source": [
    "df['seat_len'] = df['seat'].len"
   ]
  },
  {
   "cell_type": "code",
   "execution_count": 22,
   "id": "829d9cf7-0a79-49fc-a448-23c25ecdee11",
   "metadata": {},
   "outputs": [
    {
     "data": {
      "text/plain": [
       "1096968"
      ]
     },
     "execution_count": 22,
     "metadata": {},
     "output_type": "execute_result"
    }
   ],
   "source": [
    "df['seat_len'].min()"
   ]
  },
  {
   "cell_type": "code",
   "execution_count": 23,
   "id": "a2515315-572f-481d-8ff6-b8e21404564e",
   "metadata": {},
   "outputs": [
    {
     "data": {
      "text/plain": [
       "1096968"
      ]
     },
     "execution_count": 23,
     "metadata": {},
     "output_type": "execute_result"
    }
   ],
   "source": [
    "df['seat_len'].max()"
   ]
  },
  {
   "cell_type": "code",
   "execution_count": 33,
   "id": "39602de8-fec7-440c-9976-caac16210c5a",
   "metadata": {},
   "outputs": [
    {
     "data": {
      "text/plain": [
       "1920549      2층 D블록3열 3\n",
       "1920550     1층 B블록9열 11\n",
       "1920554     1층 D블록19열 5\n",
       "1920557      1층 E블록6열 6\n",
       "1920559      1층 D블록9열 7\n",
       "               ...     \n",
       "1920853      1층 A블록2열 2\n",
       "1920855      3층 A블록6열 4\n",
       "1920856    1층 D블록16열 12\n",
       "1920858     1층 D블록20열 8\n",
       "1920864      3층 B블록5열 4\n",
       "Name: seat, Length: 190, dtype: object"
      ]
     },
     "execution_count": 33,
     "metadata": {},
     "output_type": "execute_result"
    }
   ],
   "source": [
    "df['seat'].tail(190)"
   ]
  },
  {
   "cell_type": "code",
   "execution_count": 44,
   "id": "8c680c0e-a6a6-4a50-addf-7bee2df85d1c",
   "metadata": {},
   "outputs": [
    {
     "data": {
      "text/plain": [
       "710"
      ]
     },
     "execution_count": 44,
     "metadata": {},
     "output_type": "execute_result"
    }
   ],
   "source": [
    "len(consert['discount_type'].unique())"
   ]
  },
  {
   "cell_type": "code",
   "execution_count": 46,
   "id": "dad87c8a-deae-497e-b56f-33f5aed2c24a",
   "metadata": {},
   "outputs": [
    {
     "data": {
      "text/plain": [
       "age                   612451\n",
       "gender                612101\n",
       "membership_type_1     612101\n",
       "membership_type_2     707231\n",
       "membership_type_3     956500\n",
       "membership_type_4    1071808\n",
       "membership_type_5    1095858\n",
       "membership_type_6    1096968\n",
       "tran_date                  0\n",
       "tran_time                  0\n",
       "play_date                  0\n",
       "play_st_time               0\n",
       "seat                       0\n",
       "price                      0\n",
       "ticket_cancel              0\n",
       "discount_type              0\n",
       "performance_code           0\n",
       "pre_open_date         395645\n",
       "open_date                  0\n",
       "genre                  25073\n",
       "place                      0\n",
       "running_time               0\n",
       "intermission               0\n",
       "member_yn                  0\n",
       "dtype: int64"
      ]
     },
     "execution_count": 46,
     "metadata": {},
     "output_type": "execute_result"
    }
   ],
   "source": [
    "consert.isnull().sum()"
   ]
  },
  {
   "cell_type": "code",
   "execution_count": null,
   "id": "a98e17e4-09c5-464a-9d3c-328c734df46c",
   "metadata": {},
   "outputs": [],
   "source": []
  }
 ],
 "metadata": {
  "kernelspec": {
   "display_name": "Python 3 (ipykernel)",
   "language": "python",
   "name": "python3"
  },
  "language_info": {
   "codemirror_mode": {
    "name": "ipython",
    "version": 3
   },
   "file_extension": ".py",
   "mimetype": "text/x-python",
   "name": "python",
   "nbconvert_exporter": "python",
   "pygments_lexer": "ipython3",
   "version": "3.11.4"
  }
 },
 "nbformat": 4,
 "nbformat_minor": 5
}
